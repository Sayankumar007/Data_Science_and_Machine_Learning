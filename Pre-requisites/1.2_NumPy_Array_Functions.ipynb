{
 "cells": [
  {
   "cell_type": "markdown",
   "id": "2728a13b",
   "metadata": {},
   "source": [
    "# Important NumPy Functions"
   ]
  },
  {
   "cell_type": "code",
   "execution_count": 2,
   "id": "8fa49f09",
   "metadata": {},
   "outputs": [],
   "source": [
    "import numpy as np"
   ]
  },
  {
   "cell_type": "markdown",
   "id": "a995d016",
   "metadata": {},
   "source": [
    "## arange()"
   ]
  },
  {
   "cell_type": "raw",
   "id": "300770b9",
   "metadata": {},
   "source": [
    "SYNTAX : np.arange(start, end, steps)"
   ]
  },
  {
   "cell_type": "code",
   "execution_count": 13,
   "id": "9386aea4",
   "metadata": {},
   "outputs": [
    {
     "name": "stdout",
     "output_type": "stream",
     "text": [
      "[ 1  2  3  4  5  6  7  8  9 10 11 12]\n",
      "[ 0  1  2  3  4  5  6  7  8  9 10 11 12 13 14 15 16 17]\n",
      "[ 1  3  5  7  9 11]\n",
      "[ 0  3  6  9 12]\n"
     ]
    }
   ],
   "source": [
    "#creating 1D array in a specific range with a specific steps..\n",
    "arr_1d = np.arange(1, 13)\n",
    "arr_1d2 = np.arange(0, 18)\n",
    "arr_1d3 = np.arange(1, 13, 2)\n",
    "arr_1d4 = np.arange(0, 13, 3)\n",
    "print(arr_1d)\n",
    "print(arr_1d2)\n",
    "print(arr_1d3)\n",
    "print(arr_1d4)"
   ]
  },
  {
   "cell_type": "markdown",
   "id": "fa3ea5cb",
   "metadata": {},
   "source": [
    "## linspace()"
   ]
  },
  {
   "cell_type": "raw",
   "id": "af2ec86c",
   "metadata": {},
   "source": [
    "SYNTAX : np.linspace(n, m, p)"
   ]
  },
  {
   "cell_type": "code",
   "execution_count": 12,
   "id": "6809911b",
   "metadata": {},
   "outputs": [
    {
     "data": {
      "text/plain": [
       "array([1. , 1.8, 2.6, 3.4, 4.2, 5. ])"
      ]
     },
     "execution_count": 12,
     "metadata": {},
     "output_type": "execute_result"
    }
   ],
   "source": [
    "#creating 1D array of p numbers(with a same gap) between n and m...\n",
    "np.linspace(1, 5, 6)"
   ]
  },
  {
   "cell_type": "markdown",
   "id": "c7ef696e",
   "metadata": {},
   "source": [
    "## reshape()"
   ]
  },
  {
   "cell_type": "raw",
   "id": "91bbbe94",
   "metadata": {},
   "source": [
    "Used to convert one-dimensional or two-demensional Array to Multi-dimensional Array..\n",
    "SYNTAX : array_name.reshape(height, row, colm)"
   ]
  },
  {
   "cell_type": "code",
   "execution_count": 21,
   "id": "fa645b89",
   "metadata": {},
   "outputs": [
    {
     "name": "stdout",
     "output_type": "stream",
     "text": [
      "The 1D Array was ->\n",
      "[ 1  2  3  4  5  6  7  8  9 10 11 12]\n",
      "\n",
      "Conversion of 1D Array to 2D Array ->\n",
      "[[ 1  2  3  4  5  6]\n",
      " [ 7  8  9 10 11 12]]\n",
      "\n",
      "After Changing The Shape of 2D Array, Array Becomes ->\n",
      "[[ 1  2  3  4]\n",
      " [ 5  6  7  8]\n",
      " [ 9 10 11 12]]\n",
      "\n",
      "Conversion of 1D Array to 3D Array ->\n",
      "[[[ 1  2]\n",
      "  [ 3  4]\n",
      "  [ 5  6]]\n",
      "\n",
      " [[ 7  8]\n",
      "  [ 9 10]\n",
      "  [11 12]]]\n",
      "\n",
      "After Changing The Shape of 3D Array, Array Becomes ->\n",
      "[[[ 1  2]\n",
      "  [ 3  4]]\n",
      "\n",
      " [[ 5  6]\n",
      "  [ 7  8]]\n",
      "\n",
      " [[ 9 10]\n",
      "  [11 12]]]\n"
     ]
    }
   ],
   "source": [
    "print(\"The 1D Array was ->\")\n",
    "print(arr_1d)\n",
    "\n",
    "#changing the 1D Array to 2D Array..\n",
    "arr_2d = arr_1d.reshape(2, 6)\n",
    "print(\"\\nConversion of 1D Array to 2D Array ->\")\n",
    "print(arr_2d)\n",
    "\n",
    "#changing the shape of an 2D Array..\n",
    "arr_2d = arr_2d.reshape(3, 4)\n",
    "print(\"\\nAfter Changing The Shape of 2D Array, Array Becomes ->\")\n",
    "print(arr_2d)\n",
    "\n",
    "#changing the 1D Array to 3D Array..\n",
    "arr_3d = arr_2d.reshape(2, 3, 2)\n",
    "print(\"\\nConversion of 1D Array to 3D Array ->\")\n",
    "print(arr_3d)\n",
    "\n",
    "#changing the shape of a 3D Array..\n",
    "arr_3d = arr_3d.reshape(3, 2, 2)\n",
    "print(\"\\nAfter Changing The Shape of 3D Array, Array Becomes ->\")\n",
    "print(arr_3d)"
   ]
  },
  {
   "cell_type": "code",
   "execution_count": 23,
   "id": "f24c95ea",
   "metadata": {},
   "outputs": [
    {
     "name": "stdout",
     "output_type": "stream",
     "text": [
      "[[ 6  7  8  9]\n",
      " [10 11 12 13]\n",
      " [14 15 16 17]]\n"
     ]
    }
   ],
   "source": [
    "arr = np.arange(6,18).reshape(3,4)\n",
    "print(arr)"
   ]
  },
  {
   "cell_type": "markdown",
   "id": "dccd7c16",
   "metadata": {},
   "source": [
    "## ravel()"
   ]
  },
  {
   "cell_type": "raw",
   "id": "0acaa04c",
   "metadata": {},
   "source": [
    "Used to convert Multi-dimensional Array into One-dimensional Array..\n",
    "SYNTAX : array_name.ravel([Order])  order means row-major, column-major etc."
   ]
  },
  {
   "cell_type": "code",
   "execution_count": 33,
   "id": "53eaca52",
   "metadata": {},
   "outputs": [
    {
     "name": "stdout",
     "output_type": "stream",
     "text": [
      "2D Array to 1D Array ->\n",
      "[ 6  7  8  9 10 11 12 13 14 15 16 17]\n",
      "\n",
      "3D Array to 1D Array ->\n",
      "[ 1  5  9  3  7 11  2  6 10  4  8 12]\n"
     ]
    }
   ],
   "source": [
    "arr_1d = arr.ravel() #default order is 'C' i.e. row-major order..\n",
    "print(\"2D Array to 1D Array ->\")\n",
    "print(arr_1d)\n",
    "\n",
    "arr_1d = arr_3d.ravel('F') #order is here 'F' i.e. column-major order..\n",
    "print(\"\\n3D Array to 1D Array ->\")\n",
    "print(arr_1d)"
   ]
  },
  {
   "cell_type": "markdown",
   "id": "0cecae72",
   "metadata": {},
   "source": [
    "## flatten()"
   ]
  },
  {
   "cell_type": "raw",
   "id": "50e0f52e",
   "metadata": {},
   "source": [
    "Return a copy of the array collapsed into one dimension. i.e. only multi-dimensional to One-dimensional Array...\n",
    "SYNTAX : array_name.flatten(Order = '')"
   ]
  },
  {
   "cell_type": "code",
   "execution_count": 35,
   "id": "3c0be11b",
   "metadata": {},
   "outputs": [
    {
     "data": {
      "text/plain": [
       "array([ 6, 10, 14,  7, 11, 15,  8, 12, 16,  9, 13, 17])"
      ]
     },
     "execution_count": 35,
     "metadata": {},
     "output_type": "execute_result"
    }
   ],
   "source": [
    "arr.flatten('F')  #'F' means column-major order.."
   ]
  },
  {
   "cell_type": "markdown",
   "id": "43006732",
   "metadata": {},
   "source": [
    "## transpose()"
   ]
  },
  {
   "cell_type": "raw",
   "id": "dbe8bd63",
   "metadata": {},
   "source": [
    "SYNTAX : arr.transpose(*axes)"
   ]
  },
  {
   "cell_type": "code",
   "execution_count": 43,
   "id": "1b8a7f4a",
   "metadata": {},
   "outputs": [
    {
     "name": "stdout",
     "output_type": "stream",
     "text": [
      "The Array(3x4) is ->\n",
      "[[ 6  7  8  9]\n",
      " [10 11 12 13]\n",
      " [14 15 16 17]]\n",
      "\n",
      "Transpose of the array is ->\n",
      "[[ 6 10 14]\n",
      " [ 7 11 15]\n",
      " [ 8 12 16]\n",
      " [ 9 13 17]]\n"
     ]
    }
   ],
   "source": [
    "print(\"The Array(3x4) is ->\")\n",
    "print(arr)\n",
    "\n",
    "print(\"\\nTranspose of the array is ->\")\n",
    "print(arr.transpose())"
   ]
  },
  {
   "cell_type": "code",
   "execution_count": 49,
   "id": "50463be6",
   "metadata": {},
   "outputs": [
    {
     "name": "stdout",
     "output_type": "stream",
     "text": [
      "[[ 1  2  3  4  5  6]\n",
      " [ 7  8  9 10 11 12]]\n",
      "\n",
      "Transpose of the above matrix is ->\n",
      "[[ 1  7]\n",
      " [ 2  8]\n",
      " [ 3  9]\n",
      " [ 4 10]\n",
      " [ 5 11]\n",
      " [ 6 12]]\n"
     ]
    }
   ],
   "source": [
    "# we can use \"array_name.T\" to transpose a matrix...\n",
    "arr_2d = np.array([[1,2,3,4,5,6], [7,8,9,10,11,12]])\n",
    "print(arr_2d)\n",
    "\n",
    "print(\"\\nTranspose of the above matrix is ->\")\n",
    "print(arr_2d.T)"
   ]
  },
  {
   "cell_type": "code",
   "execution_count": null,
   "id": "deaab4a3",
   "metadata": {},
   "outputs": [],
   "source": []
  }
 ],
 "metadata": {
  "kernelspec": {
   "display_name": "Python 3 (ipykernel)",
   "language": "python",
   "name": "python3"
  },
  "language_info": {
   "codemirror_mode": {
    "name": "ipython",
    "version": 3
   },
   "file_extension": ".py",
   "mimetype": "text/x-python",
   "name": "python",
   "nbconvert_exporter": "python",
   "pygments_lexer": "ipython3",
   "version": "3.9.12"
  }
 },
 "nbformat": 4,
 "nbformat_minor": 5
}
