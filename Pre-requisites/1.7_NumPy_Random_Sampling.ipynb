{
 "cells": [
  {
   "cell_type": "markdown",
   "id": "0abfa80a",
   "metadata": {},
   "source": [
    "# Random Sampling with Numpy"
   ]
  },
  {
   "cell_type": "code",
   "execution_count": 2,
   "id": "99e32158",
   "metadata": {},
   "outputs": [],
   "source": [
    "import numpy as np"
   ]
  },
  {
   "cell_type": "markdown",
   "id": "e46887eb",
   "metadata": {},
   "source": [
    "### random.random()  function\n",
    "#### ```SYNTAX : np.random.random(height, row, column)```"
   ]
  },
  {
   "cell_type": "code",
   "execution_count": 2,
   "id": "53c76965",
   "metadata": {},
   "outputs": [
    {
     "data": {
      "text/plain": [
       "array([0.77038081])"
      ]
     },
     "execution_count": 2,
     "metadata": {},
     "output_type": "execute_result"
    }
   ],
   "source": [
    "# \"np.random.random()\" generates a random value b/w 0 and 1, and returns an array.\n",
    "np.random.random(1)"
   ]
  },
  {
   "cell_type": "code",
   "execution_count": 5,
   "id": "50058b85",
   "metadata": {},
   "outputs": [
    {
     "data": {
      "text/plain": [
       "array([[0.40949294, 0.66889481, 0.42219388, 0.31504419],\n",
       "       [0.08273361, 0.3294771 , 0.2159286 , 0.63611172],\n",
       "       [0.37642317, 0.12278597, 0.52259978, 0.60604597],\n",
       "       [0.94883868, 0.53564713, 0.13814225, 0.47249089],\n",
       "       [0.0926377 , 0.35396912, 0.34111232, 0.41382585]])"
      ]
     },
     "execution_count": 5,
     "metadata": {},
     "output_type": "execute_result"
    }
   ],
   "source": [
    "# Generating array of specific shape, containing random number b/w 0 and 1.\n",
    "np.random.random((5,4))"
   ]
  },
  {
   "cell_type": "code",
   "execution_count": 7,
   "id": "f5de34c3",
   "metadata": {},
   "outputs": [
    {
     "data": {
      "text/plain": [
       "array([[[6.72067089e-01, 4.50922105e-01, 4.84144289e-01],\n",
       "        [4.32712460e-01, 2.45750631e-01, 3.95043798e-01],\n",
       "        [9.42273544e-01, 1.27130847e-01, 1.79130706e-01]],\n",
       "\n",
       "       [[3.83113976e-01, 7.31212934e-01, 6.47468350e-01],\n",
       "        [3.71613516e-01, 7.91120640e-01, 3.43638191e-01],\n",
       "        [8.01958618e-01, 4.47583490e-01, 6.86586073e-04]],\n",
       "\n",
       "       [[2.67176907e-01, 6.04664094e-01, 1.11742062e-01],\n",
       "        [4.48945572e-03, 3.37170417e-02, 5.58621860e-01],\n",
       "        [9.26556368e-01, 4.29920963e-01, 5.60457634e-01]]])"
      ]
     },
     "execution_count": 7,
     "metadata": {},
     "output_type": "execute_result"
    }
   ],
   "source": [
    "np.random.random((3,3,3))"
   ]
  },
  {
   "cell_type": "markdown",
   "id": "988c705f",
   "metadata": {},
   "source": [
    "### random.randint()  function\n",
    "#### ```Generates Random Integer Number b/w two integers```\n",
    "#### ``` SYNTAX : random.randint(start, end, (height, row, column))```"
   ]
  },
  {
   "cell_type": "code",
   "execution_count": 8,
   "id": "15a6115c",
   "metadata": {},
   "outputs": [
    {
     "data": {
      "text/plain": [
       "3"
      ]
     },
     "execution_count": 8,
     "metadata": {},
     "output_type": "execute_result"
    }
   ],
   "source": [
    "np.random.randint(1,5)"
   ]
  },
  {
   "cell_type": "code",
   "execution_count": 9,
   "id": "c8f9a668",
   "metadata": {},
   "outputs": [
    {
     "data": {
      "text/plain": [
       "3"
      ]
     },
     "execution_count": 9,
     "metadata": {},
     "output_type": "execute_result"
    }
   ],
   "source": [
    "np.random.randint(1,5)"
   ]
  },
  {
   "cell_type": "code",
   "execution_count": 11,
   "id": "eadf22fb",
   "metadata": {},
   "outputs": [
    {
     "name": "stdout",
     "output_type": "stream",
     "text": [
      "2\n",
      "5\n",
      "8\n",
      "2\n",
      "5\n",
      "9\n",
      "1\n",
      "5\n",
      "4\n",
      "2\n",
      "3\n",
      "9\n",
      "2\n",
      "7\n",
      "4\n",
      "5\n",
      "3\n",
      "6\n",
      "8\n",
      "9\n"
     ]
    }
   ],
   "source": [
    "#Generating 20 Random numbers b/w 1 to 10\n",
    "for a in range(20):\n",
    "    print(np.random.randint(1,10))"
   ]
  },
  {
   "cell_type": "code",
   "execution_count": 12,
   "id": "fa9efb84",
   "metadata": {},
   "outputs": [
    {
     "data": {
      "text/plain": [
       "array([[2, 2, 3, 3],\n",
       "       [2, 1, 2, 2],\n",
       "       [3, 1, 2, 2],\n",
       "       [3, 2, 2, 1]])"
      ]
     },
     "execution_count": 12,
     "metadata": {},
     "output_type": "execute_result"
    }
   ],
   "source": [
    "#Generating Matrix of specific shape, containing Random Numbers b/w 1 to 4.\n",
    "np.random.randint(1,4, (4,4))"
   ]
  },
  {
   "cell_type": "code",
   "execution_count": 13,
   "id": "4dbd1e96",
   "metadata": {},
   "outputs": [
    {
     "data": {
      "text/plain": [
       "array([[[3, 1, 3],\n",
       "        [1, 1, 1],\n",
       "        [1, 1, 3]],\n",
       "\n",
       "       [[2, 1, 2],\n",
       "        [3, 3, 2],\n",
       "        [3, 3, 1]],\n",
       "\n",
       "       [[1, 1, 2],\n",
       "        [3, 1, 1],\n",
       "        [2, 3, 1]]])"
      ]
     },
     "execution_count": 13,
     "metadata": {},
     "output_type": "execute_result"
    }
   ],
   "source": [
    "np.random.randint(1,4, (3,3,3))"
   ]
  },
  {
   "cell_type": "markdown",
   "id": "baa363c9",
   "metadata": {},
   "source": [
    "### rand() and randn()  function"
   ]
  },
  {
   "cell_type": "code",
   "execution_count": 14,
   "id": "8fb88108",
   "metadata": {},
   "outputs": [
    {
     "data": {
      "text/plain": [
       "array([0.14083403, 0.8763305 , 0.79521941])"
      ]
     },
     "execution_count": 14,
     "metadata": {},
     "output_type": "execute_result"
    }
   ],
   "source": [
    "# Generating Array of specific size containing random number b/w 0 and 1\n",
    "np.random.rand(3)"
   ]
  },
  {
   "cell_type": "code",
   "execution_count": 15,
   "id": "0e554472",
   "metadata": {},
   "outputs": [
    {
     "data": {
      "text/plain": [
       "array([[0.76526672, 0.82844714, 0.73001762],\n",
       "       [0.6526597 , 0.4919978 , 0.744781  ],\n",
       "       [0.81793958, 0.34217087, 0.48135163]])"
      ]
     },
     "execution_count": 15,
     "metadata": {},
     "output_type": "execute_result"
    }
   ],
   "source": [
    "np.random.rand(3,3)"
   ]
  },
  {
   "cell_type": "code",
   "execution_count": 4,
   "id": "7179bbf2",
   "metadata": {},
   "outputs": [
    {
     "data": {
      "text/plain": [
       "array([[ 0.59069632,  0.2658484 , -1.26468239],\n",
       "       [ 0.63582432,  0.07691859, -1.31851021],\n",
       "       [-0.01021922, -0.67706717,  0.38136249]])"
      ]
     },
     "execution_count": 4,
     "metadata": {},
     "output_type": "execute_result"
    }
   ],
   "source": [
    "# Generating Array of Random negative and Positive numbers..\n",
    "np.random.randn(3,3)"
   ]
  },
  {
   "cell_type": "markdown",
   "id": "b9a4f461",
   "metadata": {},
   "source": [
    "### choice()  function"
   ]
  },
  {
   "cell_type": "code",
   "execution_count": 18,
   "id": "fe89f778",
   "metadata": {},
   "outputs": [
    {
     "data": {
      "text/plain": [
       "2"
      ]
     },
     "execution_count": 18,
     "metadata": {},
     "output_type": "execute_result"
    }
   ],
   "source": [
    "x = [1,2,3,4,5,6]   #List of six numbers...\n",
    "\n",
    "#Choosing a random no. from the list\n",
    "np.random.choice(x)"
   ]
  },
  {
   "cell_type": "code",
   "execution_count": 19,
   "id": "6a76f310",
   "metadata": {},
   "outputs": [
    {
     "data": {
      "text/plain": [
       "6"
      ]
     },
     "execution_count": 19,
     "metadata": {},
     "output_type": "execute_result"
    }
   ],
   "source": [
    "np.random.choice(x)"
   ]
  },
  {
   "cell_type": "code",
   "execution_count": 21,
   "id": "93e91c39",
   "metadata": {},
   "outputs": [
    {
     "name": "stdout",
     "output_type": "stream",
     "text": [
      "3\n",
      "4\n",
      "1\n",
      "1\n",
      "4\n"
     ]
    }
   ],
   "source": [
    "for i in range(5):\n",
    "    print(np.random.choice(x))"
   ]
  },
  {
   "cell_type": "markdown",
   "id": "b64f77ca",
   "metadata": {},
   "source": [
    "### permutation()  function"
   ]
  },
  {
   "cell_type": "code",
   "execution_count": 22,
   "id": "cb989ef7",
   "metadata": {},
   "outputs": [
    {
     "data": {
      "text/plain": [
       "array([1, 4, 5, 3, 6, 2])"
      ]
     },
     "execution_count": 22,
     "metadata": {},
     "output_type": "execute_result"
    }
   ],
   "source": [
    "#Permutation of the list x = [1,2,3,4,5,6]\n",
    "\n",
    "np.random.permutation(x)"
   ]
  },
  {
   "cell_type": "code",
   "execution_count": 23,
   "id": "6097a6a5",
   "metadata": {},
   "outputs": [
    {
     "data": {
      "text/plain": [
       "array([2, 6, 3, 1, 5, 4])"
      ]
     },
     "execution_count": 23,
     "metadata": {},
     "output_type": "execute_result"
    }
   ],
   "source": [
    "np.random.permutation(x)"
   ]
  },
  {
   "cell_type": "code",
   "execution_count": 27,
   "id": "2637f02f",
   "metadata": {},
   "outputs": [
    {
     "name": "stdout",
     "output_type": "stream",
     "text": [
      "[6, 5, 3, 4, 1, 2]\n"
     ]
    }
   ],
   "source": [
    "#Shuffles the Items of a List..\n",
    "np.random.shuffle(x)\n",
    "print(x)                #Items of the list now has been changed"
   ]
  },
  {
   "cell_type": "code",
   "execution_count": null,
   "id": "b6397ccc",
   "metadata": {},
   "outputs": [],
   "source": []
  }
 ],
 "metadata": {
  "kernelspec": {
   "display_name": "Python 3 (ipykernel)",
   "language": "python",
   "name": "python3"
  },
  "language_info": {
   "codemirror_mode": {
    "name": "ipython",
    "version": 3
   },
   "file_extension": ".py",
   "mimetype": "text/x-python",
   "name": "python",
   "nbconvert_exporter": "python",
   "pygments_lexer": "ipython3",
   "version": "3.9.12"
  }
 },
 "nbformat": 4,
 "nbformat_minor": 5
}
