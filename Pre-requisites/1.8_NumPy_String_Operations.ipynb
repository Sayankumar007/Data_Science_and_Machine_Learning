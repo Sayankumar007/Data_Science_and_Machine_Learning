{
 "cells": [
  {
   "cell_type": "markdown",
   "id": "251a9f4c",
   "metadata": {},
   "source": [
    "# NumPy String Operations, Comparisons and Information"
   ]
  },
  {
   "cell_type": "code",
   "execution_count": 1,
   "id": "6f524ac3",
   "metadata": {},
   "outputs": [],
   "source": [
    "import numpy as np"
   ]
  },
  {
   "cell_type": "markdown",
   "id": "3d36d6f5",
   "metadata": {},
   "source": [
    "### Generation of NumPy String"
   ]
  },
  {
   "cell_type": "code",
   "execution_count": 7,
   "id": "03f9f8d5",
   "metadata": {},
   "outputs": [],
   "source": [
    "str1 = \"SayanSRK is Great \"\n",
    "str2 = \"Learning Python NumPy\""
   ]
  },
  {
   "cell_type": "markdown",
   "id": "095bd6f1",
   "metadata": {},
   "source": [
    "### Different String Operations"
   ]
  },
  {
   "cell_type": "code",
   "execution_count": 8,
   "id": "03c48acf",
   "metadata": {},
   "outputs": [
    {
     "data": {
      "text/plain": [
       "array('SayanSRK is Great Learning Python NumPy', dtype='<U39')"
      ]
     },
     "execution_count": 8,
     "metadata": {},
     "output_type": "execute_result"
    }
   ],
   "source": [
    "#String Concatenation..\n",
    "np.char.add(str1, str2)"
   ]
  },
  {
   "cell_type": "code",
   "execution_count": 9,
   "id": "bc912062",
   "metadata": {},
   "outputs": [
    {
     "data": {
      "text/plain": [
       "array('sayansrk is great ', dtype='<U18')"
      ]
     },
     "execution_count": 9,
     "metadata": {},
     "output_type": "execute_result"
    }
   ],
   "source": [
    "#Lowercase..\n",
    "np.char.lower(str1)"
   ]
  },
  {
   "cell_type": "code",
   "execution_count": 10,
   "id": "5c5a88fb",
   "metadata": {},
   "outputs": [
    {
     "data": {
      "text/plain": [
       "array('LEARNING PYTHON NUMPY', dtype='<U21')"
      ]
     },
     "execution_count": 10,
     "metadata": {},
     "output_type": "execute_result"
    }
   ],
   "source": [
    "#Uppercase..\n",
    "np.char.upper(str2)"
   ]
  },
  {
   "cell_type": "code",
   "execution_count": 12,
   "id": "7e4792b0",
   "metadata": {},
   "outputs": [
    {
     "data": {
      "text/plain": [
       "array('                     SayanSRK is Great                      ',\n",
       "      dtype='<U60')"
      ]
     },
     "execution_count": 12,
     "metadata": {},
     "output_type": "execute_result"
    }
   ],
   "source": [
    "#Centering The String (By default with space [' '])...\n",
    "np.char.center(str1, 60)"
   ]
  },
  {
   "cell_type": "code",
   "execution_count": 13,
   "id": "ecce0bee",
   "metadata": {},
   "outputs": [
    {
     "data": {
      "text/plain": [
       "array('***********SayanSRK is Great ***********', dtype='<U40')"
      ]
     },
     "execution_count": 13,
     "metadata": {},
     "output_type": "execute_result"
    }
   ],
   "source": [
    "#Centering The String with specific character..\n",
    "np.char.center(str1, 40, fillchar=\"*\")"
   ]
  },
  {
   "cell_type": "code",
   "execution_count": 14,
   "id": "c85ecf68",
   "metadata": {},
   "outputs": [
    {
     "data": {
      "text/plain": [
       "array(list(['SayanSRK', 'is', 'Great']), dtype=object)"
      ]
     },
     "execution_count": 14,
     "metadata": {},
     "output_type": "execute_result"
    }
   ],
   "source": [
    "#Splitting Words from a String...\n",
    "np.char.split(str1)"
   ]
  },
  {
   "cell_type": "code",
   "execution_count": 15,
   "id": "df4e94d0",
   "metadata": {},
   "outputs": [
    {
     "data": {
      "text/plain": [
       "array(list(['Hello', 'SayanSRK', 'Great Man']), dtype=object)"
      ]
     },
     "execution_count": 15,
     "metadata": {},
     "output_type": "execute_result"
    }
   ],
   "source": [
    "#Splitting Lines from a String..\n",
    "np.char.splitlines(\"Hello\\nSayanSRK\\nGreat Man\")"
   ]
  },
  {
   "cell_type": "code",
   "execution_count": 16,
   "id": "f1c6fb59",
   "metadata": {},
   "outputs": [],
   "source": [
    "str4 = \"dmy\"\n",
    "str5 = \"dmy\""
   ]
  },
  {
   "cell_type": "code",
   "execution_count": 17,
   "id": "02f998d6",
   "metadata": {},
   "outputs": [
    {
     "data": {
      "text/plain": [
       "array(['d:m:y', 'd/m/y'], dtype='<U5')"
      ]
     },
     "execution_count": 17,
     "metadata": {},
     "output_type": "execute_result"
    }
   ],
   "source": [
    "#Joining Each character of a string with a specific character..\n",
    "np.char.join([\":\", \"/\"], [str4, str5])"
   ]
  },
  {
   "cell_type": "code",
   "execution_count": 19,
   "id": "271a0c4b",
   "metadata": {},
   "outputs": [
    {
     "data": {
      "text/plain": [
       "array('SayanSRK is Amazing ', dtype='<U20')"
      ]
     },
     "execution_count": 19,
     "metadata": {},
     "output_type": "execute_result"
    }
   ],
   "source": [
    "#Replacing A specific word in a string with another word..\n",
    "np.char.replace(str1, \"Great\", \"Amazing\")"
   ]
  },
  {
   "cell_type": "code",
   "execution_count": 21,
   "id": "da95feb0",
   "metadata": {},
   "outputs": [
    {
     "name": "stdout",
     "output_type": "stream",
     "text": [
      "True\n",
      "False\n"
     ]
    }
   ],
   "source": [
    "#Comparing two strings..\n",
    "\n",
    "print(np.char.equal(str4, str5))\n",
    "print(np.char.equal(str1, str2))"
   ]
  },
  {
   "cell_type": "code",
   "execution_count": 22,
   "id": "82526176",
   "metadata": {},
   "outputs": [
    {
     "data": {
      "text/plain": [
       "array(2)"
      ]
     },
     "execution_count": 22,
     "metadata": {},
     "output_type": "execute_result"
    }
   ],
   "source": [
    "#Counting the number of appearance of a charater in a given string..\n",
    "np.char.count(str1, \"S\")"
   ]
  },
  {
   "cell_type": "code",
   "execution_count": 25,
   "id": "9204266b",
   "metadata": {},
   "outputs": [
    {
     "data": {
      "text/plain": [
       "array(9)"
      ]
     },
     "execution_count": 25,
     "metadata": {},
     "output_type": "execute_result"
    }
   ],
   "source": [
    "#Finding a specific word in a string..\n",
    "np.char.find(str2, \"Python\")"
   ]
  },
  {
   "cell_type": "code",
   "execution_count": 26,
   "id": "f26873a0",
   "metadata": {},
   "outputs": [
    {
     "data": {
      "text/plain": [
       "array(-1)"
      ]
     },
     "execution_count": 26,
     "metadata": {},
     "output_type": "execute_result"
    }
   ],
   "source": [
    "np.char.find(str2, \"computer\")  #Not present so return -1"
   ]
  },
  {
   "cell_type": "code",
   "execution_count": null,
   "id": "a425b460",
   "metadata": {},
   "outputs": [],
   "source": []
  }
 ],
 "metadata": {
  "kernelspec": {
   "display_name": "Python 3 (ipykernel)",
   "language": "python",
   "name": "python3"
  },
  "language_info": {
   "codemirror_mode": {
    "name": "ipython",
    "version": 3
   },
   "file_extension": ".py",
   "mimetype": "text/x-python",
   "name": "python",
   "nbconvert_exporter": "python",
   "pygments_lexer": "ipython3",
   "version": "3.9.12"
  }
 },
 "nbformat": 4,
 "nbformat_minor": 5
}
