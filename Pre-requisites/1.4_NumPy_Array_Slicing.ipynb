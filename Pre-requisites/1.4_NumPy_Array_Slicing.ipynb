{
 "cells": [
  {
   "cell_type": "markdown",
   "id": "dc821a89",
   "metadata": {},
   "source": [
    "# NumPy Array Slicing"
   ]
  },
  {
   "cell_type": "code",
   "execution_count": 2,
   "id": "31f88c79",
   "metadata": {},
   "outputs": [],
   "source": [
    "import numpy as np"
   ]
  },
  {
   "cell_type": "raw",
   "id": "b4913547",
   "metadata": {},
   "source": [
    "# let's create an (10 x 10) Matrix of 100 elements"
   ]
  },
  {
   "cell_type": "code",
   "execution_count": 3,
   "id": "61879c86",
   "metadata": {},
   "outputs": [
    {
     "name": "stdout",
     "output_type": "stream",
     "text": [
      "[[  1   2   3   4   5   6   7   8   9  10]\n",
      " [ 11  12  13  14  15  16  17  18  19  20]\n",
      " [ 21  22  23  24  25  26  27  28  29  30]\n",
      " [ 31  32  33  34  35  36  37  38  39  40]\n",
      " [ 41  42  43  44  45  46  47  48  49  50]\n",
      " [ 51  52  53  54  55  56  57  58  59  60]\n",
      " [ 61  62  63  64  65  66  67  68  69  70]\n",
      " [ 71  72  73  74  75  76  77  78  79  80]\n",
      " [ 81  82  83  84  85  86  87  88  89  90]\n",
      " [ 91  92  93  94  95  96  97  98  99 100]]\n"
     ]
    }
   ],
   "source": [
    "mx = np.arange(1,101).reshape(10,10)\n",
    "print(mx)"
   ]
  },
  {
   "cell_type": "markdown",
   "id": "55cd443a",
   "metadata": {},
   "source": [
    "### Accessing Elements with its Index"
   ]
  },
  {
   "cell_type": "code",
   "execution_count": 4,
   "id": "a26abc0d",
   "metadata": {},
   "outputs": [
    {
     "data": {
      "text/plain": [
       "1"
      ]
     },
     "execution_count": 4,
     "metadata": {},
     "output_type": "execute_result"
    }
   ],
   "source": [
    "mx[0,0]   # SYNTAX : matrix_name[row, colm]"
   ]
  },
  {
   "cell_type": "code",
   "execution_count": 5,
   "id": "e72a4b65",
   "metadata": {},
   "outputs": [
    {
     "data": {
      "text/plain": [
       "33"
      ]
     },
     "execution_count": 5,
     "metadata": {},
     "output_type": "execute_result"
    }
   ],
   "source": [
    "mx[3,2]"
   ]
  },
  {
   "cell_type": "code",
   "execution_count": 6,
   "id": "32d04e1e",
   "metadata": {},
   "outputs": [
    {
     "data": {
      "text/plain": [
       "0"
      ]
     },
     "execution_count": 6,
     "metadata": {},
     "output_type": "execute_result"
    }
   ],
   "source": [
    "mx[0,0].ndim  #this will return 0, as the dimension of a number is zero.."
   ]
  },
  {
   "cell_type": "markdown",
   "id": "7a95e60b",
   "metadata": {},
   "source": [
    "### Accessing Rows"
   ]
  },
  {
   "cell_type": "code",
   "execution_count": 7,
   "id": "f987e317",
   "metadata": {},
   "outputs": [
    {
     "data": {
      "text/plain": [
       "array([ 1,  2,  3,  4,  5,  6,  7,  8,  9, 10])"
      ]
     },
     "execution_count": 7,
     "metadata": {},
     "output_type": "execute_result"
    }
   ],
   "source": [
    "mx[0]   # SYNTAX : matrix_name[row]"
   ]
  },
  {
   "cell_type": "code",
   "execution_count": 8,
   "id": "fb3ed680",
   "metadata": {},
   "outputs": [
    {
     "data": {
      "text/plain": [
       "array([41, 42, 43, 44, 45, 46, 47, 48, 49, 50])"
      ]
     },
     "execution_count": 8,
     "metadata": {},
     "output_type": "execute_result"
    }
   ],
   "source": [
    "mx[4]"
   ]
  },
  {
   "cell_type": "code",
   "execution_count": 9,
   "id": "d56492da",
   "metadata": {},
   "outputs": [
    {
     "data": {
      "text/plain": [
       "1"
      ]
     },
     "execution_count": 9,
     "metadata": {},
     "output_type": "execute_result"
    }
   ],
   "source": [
    "mx[0].ndim  #this will return 1, as this is an 1D Array sliced from a Big 2D Array..."
   ]
  },
  {
   "cell_type": "code",
   "execution_count": 10,
   "id": "dbf4f281",
   "metadata": {},
   "outputs": [
    {
     "data": {
      "text/plain": [
       "array([[ 1,  2,  3,  4,  5,  6,  7,  8,  9, 10]])"
      ]
     },
     "execution_count": 10,
     "metadata": {},
     "output_type": "execute_result"
    }
   ],
   "source": [
    "# Accessing Row Elements in a Two-Dimensional Matrix..\n",
    "mx[0:1,]"
   ]
  },
  {
   "cell_type": "code",
   "execution_count": 11,
   "id": "5f2fcb0f",
   "metadata": {},
   "outputs": [
    {
     "data": {
      "text/plain": [
       "2"
      ]
     },
     "execution_count": 11,
     "metadata": {},
     "output_type": "execute_result"
    }
   ],
   "source": [
    "#check the dimension and it will be 2..\n",
    "mx[0:1,].ndim"
   ]
  },
  {
   "cell_type": "markdown",
   "id": "86192d78",
   "metadata": {},
   "source": [
    "### Accessing Columns"
   ]
  },
  {
   "cell_type": "code",
   "execution_count": 12,
   "id": "03a7de1a",
   "metadata": {},
   "outputs": [
    {
     "data": {
      "text/plain": [
       "array([ 1, 11, 21, 31, 41, 51, 61, 71, 81, 91])"
      ]
     },
     "execution_count": 12,
     "metadata": {},
     "output_type": "execute_result"
    }
   ],
   "source": [
    "mx[:, 0]  # SYNTAX : matrix_name[:, column]"
   ]
  },
  {
   "cell_type": "code",
   "execution_count": 13,
   "id": "aab1cdf4",
   "metadata": {},
   "outputs": [
    {
     "data": {
      "text/plain": [
       "array([ 6, 16, 26, 36, 46, 56, 66, 76, 86, 96])"
      ]
     },
     "execution_count": 13,
     "metadata": {},
     "output_type": "execute_result"
    }
   ],
   "source": [
    "mx[:, 5]"
   ]
  },
  {
   "cell_type": "code",
   "execution_count": 14,
   "id": "50d55c47",
   "metadata": {},
   "outputs": [
    {
     "data": {
      "text/plain": [
       "1"
      ]
     },
     "execution_count": 14,
     "metadata": {},
     "output_type": "execute_result"
    }
   ],
   "source": [
    "mx[:, 3].ndim #return 1, as this is an 1D Array sliced from an Big 2D Array..."
   ]
  },
  {
   "cell_type": "code",
   "execution_count": 15,
   "id": "76f09f73",
   "metadata": {},
   "outputs": [
    {
     "data": {
      "text/plain": [
       "array([[ 1],\n",
       "       [11],\n",
       "       [21],\n",
       "       [31],\n",
       "       [41],\n",
       "       [51],\n",
       "       [61],\n",
       "       [71],\n",
       "       [81],\n",
       "       [91]])"
      ]
     },
     "execution_count": 15,
     "metadata": {},
     "output_type": "execute_result"
    }
   ],
   "source": [
    "# Accessing Column Elements in a Two-Dimensional Matrix..\n",
    "mx[:, 0:1]"
   ]
  },
  {
   "cell_type": "code",
   "execution_count": 16,
   "id": "424ee0c7",
   "metadata": {},
   "outputs": [
    {
     "data": {
      "text/plain": [
       "2"
      ]
     },
     "execution_count": 16,
     "metadata": {},
     "output_type": "execute_result"
    }
   ],
   "source": [
    "# check the dimension and it will be 2..\n",
    "mx[:, 0:1].ndim"
   ]
  },
  {
   "cell_type": "markdown",
   "id": "d1f1048b",
   "metadata": {},
   "source": [
    "### Slicing A Big Matrix\n",
    "#### _SYNTAX_ : matrix_name[ (row_n : row_m),  (col_n : col_m)]\n",
    "######                                          ```Note :  row_m   and   col_m    are excluded here```"
   ]
  },
  {
   "cell_type": "code",
   "execution_count": 17,
   "id": "4fc69c90",
   "metadata": {},
   "outputs": [
    {
     "name": "stdout",
     "output_type": "stream",
     "text": [
      "First Two Row -> \n",
      "[[ 1  2  3  4  5  6  7  8  9 10]\n",
      " [11 12 13 14 15 16 17 18 19 20]]\n",
      "\n",
      "Third to Sixth Row -> \n",
      "[[21 22 23 24 25 26 27 28 29 30]\n",
      " [31 32 33 34 35 36 37 38 39 40]\n",
      " [41 42 43 44 45 46 47 48 49 50]\n",
      " [51 52 53 54 55 56 57 58 59 60]]\n"
     ]
    }
   ],
   "source": [
    "# Slicing n_th Row to m_th Row of a Matrix..\n",
    "\n",
    "print(\"First Two Row -> \")\n",
    "print(mx[0:2,])\n",
    "\n",
    "print(\"\\nThird to Sixth Row -> \")\n",
    "print(mx[2:6,])"
   ]
  },
  {
   "cell_type": "code",
   "execution_count": 18,
   "id": "086fed3a",
   "metadata": {},
   "outputs": [
    {
     "name": "stdout",
     "output_type": "stream",
     "text": [
      "First Three Column ->\n",
      "[[ 1  2  3]\n",
      " [11 12 13]\n",
      " [21 22 23]\n",
      " [31 32 33]\n",
      " [41 42 43]\n",
      " [51 52 53]\n",
      " [61 62 63]\n",
      " [71 72 73]\n",
      " [81 82 83]\n",
      " [91 92 93]]\n",
      "\n",
      "Last Four Column -> \n",
      "[[  7   8   9  10]\n",
      " [ 17  18  19  20]\n",
      " [ 27  28  29  30]\n",
      " [ 37  38  39  40]\n",
      " [ 47  48  49  50]\n",
      " [ 57  58  59  60]\n",
      " [ 67  68  69  70]\n",
      " [ 77  78  79  80]\n",
      " [ 87  88  89  90]\n",
      " [ 97  98  99 100]]\n"
     ]
    }
   ],
   "source": [
    "# Slicing n_th Column to m_th Column of a Matrix..\n",
    "\n",
    "print(\"First Three Column ->\")\n",
    "print(mx[:, 0:3])\n",
    "\n",
    "print(\"\\nLast Four Column -> \")\n",
    "print(mx[:, 6:10])"
   ]
  },
  {
   "cell_type": "code",
   "execution_count": 19,
   "id": "832f622d",
   "metadata": {},
   "outputs": [
    {
     "name": "stdout",
     "output_type": "stream",
     "text": [
      "3rd to 7th Row x 4th to 6th column : \n",
      "[[24 25 26]\n",
      " [34 35 36]\n",
      " [44 45 46]\n",
      " [54 55 56]\n",
      " [64 65 66]]\n"
     ]
    }
   ],
   "source": [
    "# Slicing n_th to m_th Row and p_th to q_th Column of a Matrix..\n",
    "\n",
    "print(\"3rd to 7th Row x 4th to 6th column : \")\n",
    "print(mx[2:7, 3:6])"
   ]
  },
  {
   "cell_type": "code",
   "execution_count": 20,
   "id": "b58b696f",
   "metadata": {},
   "outputs": [
    {
     "data": {
      "text/plain": [
       "4"
      ]
     },
     "execution_count": 20,
     "metadata": {},
     "output_type": "execute_result"
    }
   ],
   "source": [
    "# finding the memory consumed by each element of a matrix...\n",
    "mx.itemsize"
   ]
  },
  {
   "cell_type": "code",
   "execution_count": 21,
   "id": "25389097",
   "metadata": {},
   "outputs": [
    {
     "data": {
      "text/plain": [
       "dtype('int32')"
      ]
     },
     "execution_count": 21,
     "metadata": {},
     "output_type": "execute_result"
    }
   ],
   "source": [
    "# finding the datatype, matrix/2D array is stored in it..\n",
    "mx.dtype"
   ]
  },
  {
   "cell_type": "code",
   "execution_count": null,
   "id": "cfa4543a",
   "metadata": {},
   "outputs": [],
   "source": []
  }
 ],
 "metadata": {
  "kernelspec": {
   "display_name": "Python 3 (ipykernel)",
   "language": "python",
   "name": "python3"
  },
  "language_info": {
   "codemirror_mode": {
    "name": "ipython",
    "version": 3
   },
   "file_extension": ".py",
   "mimetype": "text/x-python",
   "name": "python",
   "nbconvert_exporter": "python",
   "pygments_lexer": "ipython3",
   "version": "3.9.12"
  }
 },
 "nbformat": 4,
 "nbformat_minor": 5
}
