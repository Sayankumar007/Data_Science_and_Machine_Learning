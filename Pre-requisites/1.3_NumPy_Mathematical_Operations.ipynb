{
 "cells": [
  {
   "cell_type": "markdown",
   "id": "e421d9d1",
   "metadata": {},
   "source": [
    "# MATHEMATIC OPERATIONS USING NUMPY"
   ]
  },
  {
   "cell_type": "code",
   "execution_count": 1,
   "id": "cff88adb",
   "metadata": {},
   "outputs": [],
   "source": [
    "import numpy as np"
   ]
  },
  {
   "cell_type": "raw",
   "id": "779fe372",
   "metadata": {},
   "source": [
    "Let's Create Two Arrays.."
   ]
  },
  {
   "cell_type": "code",
   "execution_count": 9,
   "id": "ae4c0bb3",
   "metadata": {},
   "outputs": [
    {
     "name": "stdout",
     "output_type": "stream",
     "text": [
      "1st array is ->\n",
      "[[1 2 3]\n",
      " [4 5 6]\n",
      " [7 8 9]]\n",
      "\n",
      "2nd array is ->\n",
      "[[ 2  4  6]\n",
      " [ 8 10 12]\n",
      " [14 16 18]]\n"
     ]
    }
   ],
   "source": [
    "arr1 = np.arange(1,10).reshape(3,3)\n",
    "arr2 = np.arange(2,20,2).reshape(3,3)\n",
    "\n",
    "print(\"1st array is ->\")\n",
    "print(arr1)\n",
    "print(\"\\n2nd array is ->\")\n",
    "print(arr2)"
   ]
  },
  {
   "cell_type": "markdown",
   "id": "92ac1055",
   "metadata": {},
   "source": [
    "## Addition of Two Matrix"
   ]
  },
  {
   "cell_type": "code",
   "execution_count": 10,
   "id": "1064f09e",
   "metadata": {},
   "outputs": [
    {
     "data": {
      "text/plain": [
       "array([[ 3,  6,  9],\n",
       "       [12, 15, 18],\n",
       "       [21, 24, 27]])"
      ]
     },
     "execution_count": 10,
     "metadata": {},
     "output_type": "execute_result"
    }
   ],
   "source": [
    "arr1 + arr2"
   ]
  },
  {
   "cell_type": "code",
   "execution_count": 35,
   "id": "88b2a199",
   "metadata": {},
   "outputs": [
    {
     "name": "stdout",
     "output_type": "stream",
     "text": [
      "[[ 3  6  9]\n",
      " [12 15 18]\n",
      " [21 24 27]]\n"
     ]
    }
   ],
   "source": [
    "result_arr = np.add(arr1, arr2)\n",
    "print(result_arr)"
   ]
  },
  {
   "cell_type": "markdown",
   "id": "7a4e4ce8",
   "metadata": {},
   "source": [
    "## Subtraction"
   ]
  },
  {
   "cell_type": "code",
   "execution_count": 12,
   "id": "f306142e",
   "metadata": {},
   "outputs": [
    {
     "data": {
      "text/plain": [
       "array([[1, 2, 3],\n",
       "       [4, 5, 6],\n",
       "       [7, 8, 9]])"
      ]
     },
     "execution_count": 12,
     "metadata": {},
     "output_type": "execute_result"
    }
   ],
   "source": [
    "arr2 - arr1"
   ]
  },
  {
   "cell_type": "code",
   "execution_count": 16,
   "id": "8b00e6f4",
   "metadata": {},
   "outputs": [
    {
     "name": "stdout",
     "output_type": "stream",
     "text": [
      "[[1 2 3]\n",
      " [4 5 6]\n",
      " [7 8 9]]\n"
     ]
    }
   ],
   "source": [
    "result_arr = np.subtract(arr2, arr1)\n",
    "print(result_arr)"
   ]
  },
  {
   "cell_type": "markdown",
   "id": "36c59f25",
   "metadata": {},
   "source": [
    "## Division"
   ]
  },
  {
   "cell_type": "code",
   "execution_count": 17,
   "id": "796042e7",
   "metadata": {},
   "outputs": [
    {
     "data": {
      "text/plain": [
       "array([[2., 2., 2.],\n",
       "       [2., 2., 2.],\n",
       "       [2., 2., 2.]])"
      ]
     },
     "execution_count": 17,
     "metadata": {},
     "output_type": "execute_result"
    }
   ],
   "source": [
    "arr2 / arr1"
   ]
  },
  {
   "cell_type": "code",
   "execution_count": 19,
   "id": "8d2c5732",
   "metadata": {},
   "outputs": [
    {
     "name": "stdout",
     "output_type": "stream",
     "text": [
      "[[2. 2. 2.]\n",
      " [2. 2. 2.]\n",
      " [2. 2. 2.]]\n"
     ]
    }
   ],
   "source": [
    "result_arr = np.divide(arr2, arr1)\n",
    "print(result_arr)"
   ]
  },
  {
   "cell_type": "markdown",
   "id": "df608a4d",
   "metadata": {},
   "source": [
    "## Multiplication of Respective Elements of Two Arrays.."
   ]
  },
  {
   "cell_type": "code",
   "execution_count": 20,
   "id": "7e3e4ff4",
   "metadata": {},
   "outputs": [
    {
     "data": {
      "text/plain": [
       "array([[  2,   8,  18],\n",
       "       [ 32,  50,  72],\n",
       "       [ 98, 128, 162]])"
      ]
     },
     "execution_count": 20,
     "metadata": {},
     "output_type": "execute_result"
    }
   ],
   "source": [
    "arr1 * arr2"
   ]
  },
  {
   "cell_type": "code",
   "execution_count": 21,
   "id": "cead66cb",
   "metadata": {},
   "outputs": [
    {
     "name": "stdout",
     "output_type": "stream",
     "text": [
      "[[  2   8  18]\n",
      " [ 32  50  72]\n",
      " [ 98 128 162]]\n"
     ]
    }
   ],
   "source": [
    "result_arr = np.multiply(arr1, arr2)\n",
    "print(result_arr)"
   ]
  },
  {
   "cell_type": "markdown",
   "id": "813a51ed",
   "metadata": {},
   "source": [
    "## Matrix Multiplication (Dot Product)"
   ]
  },
  {
   "cell_type": "code",
   "execution_count": 22,
   "id": "efd06028",
   "metadata": {},
   "outputs": [
    {
     "data": {
      "text/plain": [
       "array([[ 60,  72,  84],\n",
       "       [132, 162, 192],\n",
       "       [204, 252, 300]])"
      ]
     },
     "execution_count": 22,
     "metadata": {},
     "output_type": "execute_result"
    }
   ],
   "source": [
    "arr1 @ arr2"
   ]
  },
  {
   "cell_type": "code",
   "execution_count": 23,
   "id": "d3c52a69",
   "metadata": {},
   "outputs": [
    {
     "name": "stdout",
     "output_type": "stream",
     "text": [
      "[[ 60  72  84]\n",
      " [132 162 192]\n",
      " [204 252 300]]\n"
     ]
    }
   ],
   "source": [
    "result_arr = arr1.dot(arr2)\n",
    "print(result_arr)"
   ]
  },
  {
   "cell_type": "markdown",
   "id": "a887f7d8",
   "metadata": {},
   "source": [
    "## Finding Maximum/Minimum Element"
   ]
  },
  {
   "cell_type": "raw",
   "id": "aa7e7d4d",
   "metadata": {},
   "source": [
    "# max() and argmax() Function"
   ]
  },
  {
   "cell_type": "code",
   "execution_count": 26,
   "id": "3676c693",
   "metadata": {},
   "outputs": [
    {
     "data": {
      "text/plain": [
       "9"
      ]
     },
     "execution_count": 26,
     "metadata": {},
     "output_type": "execute_result"
    }
   ],
   "source": [
    "arr1.max()  #to find the maximum element in an Array.."
   ]
  },
  {
   "cell_type": "code",
   "execution_count": 27,
   "id": "c5d98639",
   "metadata": {},
   "outputs": [
    {
     "data": {
      "text/plain": [
       "8"
      ]
     },
     "execution_count": 27,
     "metadata": {},
     "output_type": "execute_result"
    }
   ],
   "source": [
    "arr1.argmax()  #to find the index of the maximum element in an Array.."
   ]
  },
  {
   "cell_type": "code",
   "execution_count": 29,
   "id": "ccb39649",
   "metadata": {},
   "outputs": [
    {
     "data": {
      "text/plain": [
       "array([7, 8, 9])"
      ]
     },
     "execution_count": 29,
     "metadata": {},
     "output_type": "execute_result"
    }
   ],
   "source": [
    "# finding the maximum element in each column\n",
    "arr1.max(axis = 0)   #\"axis = 0\" means Column..."
   ]
  },
  {
   "cell_type": "code",
   "execution_count": 30,
   "id": "31901f64",
   "metadata": {},
   "outputs": [
    {
     "data": {
      "text/plain": [
       "array([3, 6, 9])"
      ]
     },
     "execution_count": 30,
     "metadata": {},
     "output_type": "execute_result"
    }
   ],
   "source": [
    "# finding the maximum element in each row\n",
    "arr1.max(axis = 1)   #\"axis = 0\" means Row..."
   ]
  },
  {
   "cell_type": "raw",
   "id": "4d2823ab",
   "metadata": {},
   "source": [
    "# min() and argmin() Function"
   ]
  },
  {
   "cell_type": "code",
   "execution_count": 31,
   "id": "5269e0a8",
   "metadata": {},
   "outputs": [
    {
     "data": {
      "text/plain": [
       "1"
      ]
     },
     "execution_count": 31,
     "metadata": {},
     "output_type": "execute_result"
    }
   ],
   "source": [
    "arr1.min()  #to find the minimum element in an Array.."
   ]
  },
  {
   "cell_type": "code",
   "execution_count": 32,
   "id": "0f33a82d",
   "metadata": {},
   "outputs": [
    {
     "data": {
      "text/plain": [
       "0"
      ]
     },
     "execution_count": 32,
     "metadata": {},
     "output_type": "execute_result"
    }
   ],
   "source": [
    "arr1.argmin()  #to find the index of the minimum element in an Array.."
   ]
  },
  {
   "cell_type": "code",
   "execution_count": 33,
   "id": "0da0f617",
   "metadata": {},
   "outputs": [
    {
     "data": {
      "text/plain": [
       "array([1, 2, 3])"
      ]
     },
     "execution_count": 33,
     "metadata": {},
     "output_type": "execute_result"
    }
   ],
   "source": [
    "# finding the minimum element in each column\n",
    "arr1.min(axis = 0)     #\"axis = 0\" means Column..."
   ]
  },
  {
   "cell_type": "code",
   "execution_count": 34,
   "id": "37e0bb85",
   "metadata": {},
   "outputs": [
    {
     "data": {
      "text/plain": [
       "array([1, 4, 7])"
      ]
     },
     "execution_count": 34,
     "metadata": {},
     "output_type": "execute_result"
    }
   ],
   "source": [
    "# finding the minimum element in each row\n",
    "arr1.min(axis = 1)    #\"axis = 1\" means Row..."
   ]
  },
  {
   "cell_type": "markdown",
   "id": "924988cd",
   "metadata": {},
   "source": [
    "## sum() Function"
   ]
  },
  {
   "cell_type": "code",
   "execution_count": 36,
   "id": "9c1bbf8d",
   "metadata": {},
   "outputs": [
    {
     "data": {
      "text/plain": [
       "45"
      ]
     },
     "execution_count": 36,
     "metadata": {},
     "output_type": "execute_result"
    }
   ],
   "source": [
    "# finding sum of all elements in a matrix\n",
    "np.sum(arr1)"
   ]
  },
  {
   "cell_type": "code",
   "execution_count": 40,
   "id": "aca711fe",
   "metadata": {},
   "outputs": [
    {
     "data": {
      "text/plain": [
       "array([12, 15, 18])"
      ]
     },
     "execution_count": 40,
     "metadata": {},
     "output_type": "execute_result"
    }
   ],
   "source": [
    "# finding the sum of elements in each Column...\n",
    "np.sum(arr1, axis = 0)"
   ]
  },
  {
   "cell_type": "code",
   "execution_count": 41,
   "id": "e579aa3d",
   "metadata": {},
   "outputs": [
    {
     "data": {
      "text/plain": [
       "array([ 6, 15, 24])"
      ]
     },
     "execution_count": 41,
     "metadata": {},
     "output_type": "execute_result"
    }
   ],
   "source": [
    "# finding the sum of elements in each Row...\n",
    "np.sum(arr1, axis = 1)"
   ]
  },
  {
   "cell_type": "markdown",
   "id": "a3c831d4",
   "metadata": {},
   "source": [
    "## ** Other Important Operations"
   ]
  },
  {
   "cell_type": "code",
   "execution_count": 42,
   "id": "ea3713f3",
   "metadata": {},
   "outputs": [
    {
     "data": {
      "text/plain": [
       "10.0"
      ]
     },
     "execution_count": 42,
     "metadata": {},
     "output_type": "execute_result"
    }
   ],
   "source": [
    "# Finding the Mean of All Elements in an Array..\n",
    "np.mean(arr2)"
   ]
  },
  {
   "cell_type": "code",
   "execution_count": 43,
   "id": "be10f5c8",
   "metadata": {},
   "outputs": [
    {
     "data": {
      "text/plain": [
       "array([[1.41421356, 2.        , 2.44948974],\n",
       "       [2.82842712, 3.16227766, 3.46410162],\n",
       "       [3.74165739, 4.        , 4.24264069]])"
      ]
     },
     "execution_count": 43,
     "metadata": {},
     "output_type": "execute_result"
    }
   ],
   "source": [
    "# Finding the Square Root of Each elements in an Array..\n",
    "np.sqrt(arr2)"
   ]
  },
  {
   "cell_type": "code",
   "execution_count": 44,
   "id": "55f6d7da",
   "metadata": {},
   "outputs": [
    {
     "data": {
      "text/plain": [
       "5.163977794943222"
      ]
     },
     "execution_count": 44,
     "metadata": {},
     "output_type": "execute_result"
    }
   ],
   "source": [
    "# Finding the Standard Deviation of All Elements in an Array..\n",
    "np.std(arr2)"
   ]
  },
  {
   "cell_type": "code",
   "execution_count": 45,
   "id": "02587e22",
   "metadata": {},
   "outputs": [
    {
     "data": {
      "text/plain": [
       "array([[7.38905610e+00, 5.45981500e+01, 4.03428793e+02],\n",
       "       [2.98095799e+03, 2.20264658e+04, 1.62754791e+05],\n",
       "       [1.20260428e+06, 8.88611052e+06, 6.56599691e+07]])"
      ]
     },
     "execution_count": 45,
     "metadata": {},
     "output_type": "execute_result"
    }
   ],
   "source": [
    "# Finding the Exponent of Each elements in an Array..\n",
    "np.exp(arr2)"
   ]
  },
  {
   "cell_type": "code",
   "execution_count": 46,
   "id": "ceaaf432",
   "metadata": {},
   "outputs": [
    {
     "data": {
      "text/plain": [
       "array([[0.69314718, 1.38629436, 1.79175947],\n",
       "       [2.07944154, 2.30258509, 2.48490665],\n",
       "       [2.63905733, 2.77258872, 2.89037176]])"
      ]
     },
     "execution_count": 46,
     "metadata": {},
     "output_type": "execute_result"
    }
   ],
   "source": [
    "# Finding the log of Each elements in an Array..\n",
    "np.log(arr2)"
   ]
  },
  {
   "cell_type": "code",
   "execution_count": null,
   "id": "3c42b0ae",
   "metadata": {},
   "outputs": [],
   "source": []
  }
 ],
 "metadata": {
  "kernelspec": {
   "display_name": "Python 3 (ipykernel)",
   "language": "python",
   "name": "python3"
  },
  "language_info": {
   "codemirror_mode": {
    "name": "ipython",
    "version": 3
   },
   "file_extension": ".py",
   "mimetype": "text/x-python",
   "name": "python",
   "nbconvert_exporter": "python",
   "pygments_lexer": "ipython3",
   "version": "3.9.12"
  }
 },
 "nbformat": 4,
 "nbformat_minor": 5
}
