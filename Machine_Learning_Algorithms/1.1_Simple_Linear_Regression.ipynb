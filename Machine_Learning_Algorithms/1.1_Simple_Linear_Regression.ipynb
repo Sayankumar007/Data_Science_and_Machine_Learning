{
 "cells": [
  {
   "cell_type": "markdown",
   "id": "f0d48df6",
   "metadata": {},
   "source": [
    "# Implementation Of Simple Linear Regression Algorithm"
   ]
  },
  {
   "cell_type": "code",
   "execution_count": 133,
   "id": "f054555c",
   "metadata": {},
   "outputs": [],
   "source": [
    "import numpy as np\n",
    "import pandas as pd\n",
    "from sklearn.datasets import load_diabetes\n",
    "from sklearn.linear_model import LinearRegression\n",
    "from sklearn.model_selection import train_test_split\n",
    "from sklearn.metrics import r2_score, mean_squared_error\n",
    "import matplotlib.pyplot as plt"
   ]
  },
  {
   "cell_type": "markdown",
   "id": "5df072ae",
   "metadata": {},
   "source": [
    "### Importing and Splitting of Dataset into Train and Test.."
   ]
  },
  {
   "cell_type": "code",
   "execution_count": 134,
   "id": "f7620a2a",
   "metadata": {
    "scrolled": true
   },
   "outputs": [
    {
     "data": {
      "text/html": [
       "<div>\n",
       "<style scoped>\n",
       "    .dataframe tbody tr th:only-of-type {\n",
       "        vertical-align: middle;\n",
       "    }\n",
       "\n",
       "    .dataframe tbody tr th {\n",
       "        vertical-align: top;\n",
       "    }\n",
       "\n",
       "    .dataframe thead th {\n",
       "        text-align: right;\n",
       "    }\n",
       "</style>\n",
       "<table border=\"1\" class=\"dataframe\">\n",
       "  <thead>\n",
       "    <tr style=\"text-align: right;\">\n",
       "      <th></th>\n",
       "      <th>cgpa</th>\n",
       "      <th>package</th>\n",
       "    </tr>\n",
       "  </thead>\n",
       "  <tbody>\n",
       "    <tr>\n",
       "      <th>0</th>\n",
       "      <td>6.89</td>\n",
       "      <td>3.26</td>\n",
       "    </tr>\n",
       "    <tr>\n",
       "      <th>1</th>\n",
       "      <td>5.12</td>\n",
       "      <td>1.98</td>\n",
       "    </tr>\n",
       "    <tr>\n",
       "      <th>2</th>\n",
       "      <td>7.82</td>\n",
       "      <td>3.25</td>\n",
       "    </tr>\n",
       "    <tr>\n",
       "      <th>3</th>\n",
       "      <td>7.42</td>\n",
       "      <td>3.67</td>\n",
       "    </tr>\n",
       "    <tr>\n",
       "      <th>4</th>\n",
       "      <td>6.94</td>\n",
       "      <td>3.57</td>\n",
       "    </tr>\n",
       "    <tr>\n",
       "      <th>5</th>\n",
       "      <td>7.89</td>\n",
       "      <td>2.99</td>\n",
       "    </tr>\n",
       "  </tbody>\n",
       "</table>\n",
       "</div>"
      ],
      "text/plain": [
       "   cgpa  package\n",
       "0  6.89     3.26\n",
       "1  5.12     1.98\n",
       "2  7.82     3.25\n",
       "3  7.42     3.67\n",
       "4  6.94     3.57\n",
       "5  7.89     2.99"
      ]
     },
     "execution_count": 134,
     "metadata": {},
     "output_type": "execute_result"
    }
   ],
   "source": [
    "df = pd.read_csv(r\"C:\\Users\\Dell\\dataSets\\placement.csv\")\n",
    "df.head(6)"
   ]
  },
  {
   "cell_type": "code",
   "execution_count": 135,
   "id": "dc1206ca",
   "metadata": {},
   "outputs": [
    {
     "data": {
      "text/plain": [
       "((200,), (200,))"
      ]
     },
     "execution_count": 135,
     "metadata": {},
     "output_type": "execute_result"
    }
   ],
   "source": [
    "X = df.iloc[:, 0].values\n",
    "y = df.iloc[:, 1].values\n",
    "X.shape, y.shape"
   ]
  },
  {
   "cell_type": "code",
   "execution_count": 136,
   "id": "5f9dd927",
   "metadata": {},
   "outputs": [],
   "source": [
    "X_train, X_test, y_train, y_test = train_test_split(X, y, test_size = 0.2, random_state = 2)"
   ]
  },
  {
   "cell_type": "code",
   "execution_count": 137,
   "id": "0189f065",
   "metadata": {},
   "outputs": [
    {
     "name": "stdout",
     "output_type": "stream",
     "text": [
      "X_train shape :  (160,)\n",
      "y_train shape :  (160,)\n",
      "X_test shape :  (40,)\n",
      "y_test shape :  (40,)\n"
     ]
    }
   ],
   "source": [
    "print(\"X_train shape : \", X_train.shape)\n",
    "print(\"y_train shape : \", y_train.shape)\n",
    "print(\"X_test shape : \", X_test.shape)\n",
    "print(\"y_test shape : \", y_test.shape)"
   ]
  },
  {
   "cell_type": "markdown",
   "id": "64f79b68",
   "metadata": {},
   "source": [
    "## Writing our Own LinearRegression() Class"
   ]
  },
  {
   "cell_type": "code",
   "execution_count": 138,
   "id": "1959070e",
   "metadata": {},
   "outputs": [],
   "source": [
    "class MyLR:\n",
    "    def __init__(self):\n",
    "        self.m = None  # weight or slop or coefficient\n",
    "        self.b = None  # intercept\n",
    "        \n",
    "    def fit(self, X_train, y_train):\n",
    "        \n",
    "        num = 0\n",
    "        den = 0 \n",
    "        # simply using the Mathematical formula from Simple linear resgression\n",
    "        \n",
    "        for i in range(X_train.shape[0]):\n",
    "            \n",
    "            num = num + ((y_train[i] - y_train.mean()) * (X_train[i] - X_train.mean()))\n",
    "            \n",
    "            den = den + ((X_train[i] - X_train.mean()) * (X_train[i] - X_train.mean()))\n",
    "            \n",
    "        self.m = num / den\n",
    "        \n",
    "        self.b = y_train.mean() - (self.m * X_train.mean())\n",
    "        \n",
    "        print(\"Co-efficient/Weights : \", self.m)\n",
    "        print(\"Intercept : \", self.b)\n",
    "        \n",
    "    def predict(self, X_test):\n",
    "        return self.m * X_test + self.b"
   ]
  },
  {
   "cell_type": "markdown",
   "id": "a58c64a4",
   "metadata": {},
   "source": [
    "### Working with MyLR() Class"
   ]
  },
  {
   "cell_type": "code",
   "execution_count": 153,
   "id": "b2255db5",
   "metadata": {},
   "outputs": [
    {
     "name": "stdout",
     "output_type": "stream",
     "text": [
      "Co-efficient/Weights :  0.5579519734250721\n",
      "Intercept :  -0.8961119222429152\n"
     ]
    }
   ],
   "source": [
    "# creating class object and trainning of the dataset..\n",
    "lr = MyLR()\n",
    "lr.fit(X_train, y_train)"
   ]
  },
  {
   "cell_type": "code",
   "execution_count": 154,
   "id": "8c0297a5",
   "metadata": {},
   "outputs": [
    {
     "data": {
      "text/plain": [
       "array([3.89111601, 3.09324469, 2.38464568, 2.57434935, 1.6537286 ,\n",
       "       1.77647803, 2.07219258, 2.93143862, 3.76278706, 2.93701814,\n",
       "       4.09197872, 3.51170867, 2.97049525, 2.40138424, 3.18809652,\n",
       "       3.46707251, 1.94386362, 3.24389172, 2.97607477, 3.41685683,\n",
       "       2.55761079, 3.16577844, 2.85890486, 3.12114229, 3.68467378,\n",
       "       2.8700639 , 3.49497011, 3.34432308, 3.91901361, 1.96060218,\n",
       "       3.65119666, 3.2104146 , 3.74046898, 2.7863711 , 2.78079158,\n",
       "       3.27178932, 3.52844723, 2.61340599, 2.65804215, 2.71383735])"
      ]
     },
     "execution_count": 154,
     "metadata": {},
     "output_type": "execute_result"
    }
   ],
   "source": [
    "# predicting the Values from test dataset..\n",
    "y_pred = lr.predict(X_test)\n",
    "y_pred"
   ]
  },
  {
   "cell_type": "code",
   "execution_count": 157,
   "id": "28cbb902",
   "metadata": {},
   "outputs": [
    {
     "data": {
      "image/png": "[encoded data removed]",
      "text/plain": [
       "<Figure size 864x576 with 1 Axes>"
      ]
     },
     "metadata": {
      "needs_background": "light"
     },
     "output_type": "display_data"
    }
   ],
   "source": [
    "# plotting the graph of Trainning and Test Data with the Regression Line..\n",
    "plt.figure(figsize = (12,8))\n",
    "plt.scatter(X_train,y_train, label = \"Trainning Data\")\n",
    "plt.scatter(X_test,y_test, c = 'black', label = \"Testing Data\")\n",
    "plt.plot(X_test, y_pred, color = \"red\", label = \"Regression Line\")\n",
    "plt.legend()\n",
    "plt.show()"
   ]
  },
  {
   "cell_type": "code",
   "execution_count": 142,
   "id": "c39af139",
   "metadata": {},
   "outputs": [
    {
     "name": "stdout",
     "output_type": "stream",
     "text": [
      "MSE : 0.12129235313495523\n",
      "Score : 0.7807301475103842\n"
     ]
    }
   ],
   "source": [
    "# calculating the Mean_squared_Error and the R2_Score of Our Model..\n",
    "print(\"MSE :\", mean_squared_error(y_test, y_pred))\n",
    "print(\"Score :\", r2_score(y_test, y_pred))"
   ]
  },
  {
   "cell_type": "markdown",
   "id": "38fea379",
   "metadata": {},
   "source": [
    "### Comparing With SciKit_Learn's LinearRegression() Class."
   ]
  },
  {
   "cell_type": "code",
   "execution_count": 146,
   "id": "9c3f7f3b",
   "metadata": {},
   "outputs": [
    {
     "data": {
      "text/plain": [
       "array([[3.89111601],\n",
       "       [3.09324469],\n",
       "       [2.38464568],\n",
       "       [2.57434935],\n",
       "       [1.6537286 ],\n",
       "       [1.77647803],\n",
       "       [2.07219258],\n",
       "       [2.93143862],\n",
       "       [3.76278706],\n",
       "       [2.93701814],\n",
       "       [4.09197872],\n",
       "       [3.51170867],\n",
       "       [2.97049525],\n",
       "       [2.40138424],\n",
       "       [3.18809652],\n",
       "       [3.46707251],\n",
       "       [1.94386362],\n",
       "       [3.24389172],\n",
       "       [2.97607477],\n",
       "       [3.41685683],\n",
       "       [2.55761079],\n",
       "       [3.16577844],\n",
       "       [2.85890486],\n",
       "       [3.12114229],\n",
       "       [3.68467378],\n",
       "       [2.8700639 ],\n",
       "       [3.49497011],\n",
       "       [3.34432308],\n",
       "       [3.91901361],\n",
       "       [1.96060218],\n",
       "       [3.65119666],\n",
       "       [3.2104146 ],\n",
       "       [3.74046898],\n",
       "       [2.7863711 ],\n",
       "       [2.78079158],\n",
       "       [3.27178932],\n",
       "       [3.52844723],\n",
       "       [2.61340599],\n",
       "       [2.65804215],\n",
       "       [2.71383735]])"
      ]
     },
     "execution_count": 146,
     "metadata": {},
     "output_type": "execute_result"
    }
   ],
   "source": [
    "lr2 = LinearRegression()\n",
    "lr2.fit(np.array(X_train).reshape(-1,1), np.array(y_train).reshape(-1,1))\n",
    "y_pred2 = lr2.predict(np.array(X_test).reshape(-1,1))\n",
    "y_pred2"
   ]
  },
  {
   "cell_type": "code",
   "execution_count": 147,
   "id": "6ac82f90",
   "metadata": {},
   "outputs": [
    {
     "name": "stdout",
     "output_type": "stream",
     "text": [
      "MSE : 0.12129235313495527\n",
      "Score : 0.780730147510384\n"
     ]
    }
   ],
   "source": [
    "print(\"MSE :\", mean_squared_error(y_test, y_pred2))\n",
    "print(\"Score :\", r2_score(y_test, y_pred2))"
   ]
  },
  {
   "cell_type": "markdown",
   "id": "13e002b6",
   "metadata": {},
   "source": [
    "#### Observe the fact that our MyLR() class is giving the same accuracy as Scikit_Learn's LinearRegression() Class"
   ]
  }
 ],
 "metadata": {
  "kernelspec": {
   "display_name": "Python 3 (ipykernel)",
   "language": "python",
   "name": "python3"
  },
  "language_info": {
   "codemirror_mode": {
    "name": "ipython",
    "version": 3
   },
   "file_extension": ".py",
   "mimetype": "text/x-python",
   "name": "python",
   "nbconvert_exporter": "python",
   "pygments_lexer": "ipython3",
   "version": "3.9.12"
  }
 },
 "nbformat": 4,
 "nbformat_minor": 5
}
