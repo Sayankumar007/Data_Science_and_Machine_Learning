{
 "cells": [
  {
   "cell_type": "markdown",
   "id": "1511a921",
   "metadata": {},
   "source": [
    "# Implementation of Multiple_Linear_Regression Using Mini_Batch_Gradient_Descent"
   ]
  },
  {
   "cell_type": "code",
   "execution_count": 26,
   "id": "b6ce2068",
   "metadata": {},
   "outputs": [],
   "source": [
    "import numpy as np\n",
    "import pandas as pd\n",
    "from sklearn.datasets import load_diabetes\n",
    "from sklearn.linear_model import LinearRegression\n",
    "from sklearn.linear_model import SGDRegressor\n",
    "from sklearn.model_selection import train_test_split\n",
    "from sklearn.metrics import r2_score, mean_squared_error\n",
    "import matplotlib.pyplot as plt\n",
    "import random"
   ]
  },
  {
   "cell_type": "markdown",
   "id": "4b53ab94",
   "metadata": {},
   "source": [
    "### Importing and Splitting of Dataset into Train and Test.."
   ]
  },
  {
   "cell_type": "code",
   "execution_count": 2,
   "id": "66cd9a1b",
   "metadata": {},
   "outputs": [],
   "source": [
    "# Loading sklearn's built-in dataset..\n",
    "X, y = load_diabetes(return_X_y = True)"
   ]
  },
  {
   "cell_type": "code",
   "execution_count": 3,
   "id": "85491914",
   "metadata": {},
   "outputs": [
    {
     "data": {
      "text/plain": [
       "array([[ 0.03807591,  0.05068012,  0.06169621, ..., -0.00259226,\n",
       "         0.01990842, -0.01764613],\n",
       "       [-0.00188202, -0.04464164, -0.05147406, ..., -0.03949338,\n",
       "        -0.06832974, -0.09220405],\n",
       "       [ 0.08529891,  0.05068012,  0.04445121, ..., -0.00259226,\n",
       "         0.00286377, -0.02593034],\n",
       "       ...,\n",
       "       [ 0.04170844,  0.05068012, -0.01590626, ..., -0.01107952,\n",
       "        -0.04687948,  0.01549073],\n",
       "       [-0.04547248, -0.04464164,  0.03906215, ...,  0.02655962,\n",
       "         0.04452837, -0.02593034],\n",
       "       [-0.04547248, -0.04464164, -0.0730303 , ..., -0.03949338,\n",
       "        -0.00421986,  0.00306441]])"
      ]
     },
     "execution_count": 3,
     "metadata": {},
     "output_type": "execute_result"
    }
   ],
   "source": [
    "X   # X contains all features and y contains target variables"
   ]
  },
  {
   "cell_type": "code",
   "execution_count": 4,
   "id": "4306a623",
   "metadata": {},
   "outputs": [
    {
     "data": {
      "text/plain": [
       "((442, 10), (442,))"
      ]
     },
     "execution_count": 4,
     "metadata": {},
     "output_type": "execute_result"
    }
   ],
   "source": [
    "X.shape, y.shape"
   ]
  },
  {
   "cell_type": "code",
   "execution_count": 5,
   "id": "3bbbc5b0",
   "metadata": {},
   "outputs": [],
   "source": [
    "# Splitting Data into Train and Test..\n",
    "X_train, X_test, y_train, y_test = train_test_split(X, y, test_size = 0.2, random_state = 2)"
   ]
  },
  {
   "cell_type": "code",
   "execution_count": 6,
   "id": "f5c5c167",
   "metadata": {},
   "outputs": [
    {
     "name": "stdout",
     "output_type": "stream",
     "text": [
      "Shape of X_train :  (353, 10)\n",
      "Shape of y_train :  (353,)\n",
      "Shape of X_test :  (89, 10)\n",
      "Shape of y_test :  (89,)\n"
     ]
    }
   ],
   "source": [
    "print(\"Shape of X_train : \", X_train.shape)\n",
    "print(\"Shape of y_train : \", y_train.shape)\n",
    "print(\"Shape of X_test : \", X_test.shape)\n",
    "print(\"Shape of y_test : \", y_test.shape)"
   ]
  },
  {
   "cell_type": "markdown",
   "id": "b01bdd65",
   "metadata": {},
   "source": [
    "### Using SciKit_Learn's SGDRegressor() Class"
   ]
  },
  {
   "cell_type": "code",
   "execution_count": 15,
   "id": "40224b87",
   "metadata": {},
   "outputs": [
    {
     "name": "stderr",
     "output_type": "stream",
     "text": [
      "C:\\ProgramData\\Anaconda3\\lib\\site-packages\\sklearn\\linear_model\\_stochastic_gradient.py:1503: ConvergenceWarning: Maximum number of iteration reached before convergence. Consider increasing max_iter to improve the fit.\n",
      "  warnings.warn(\n"
     ]
    },
    {
     "data": {
      "text/plain": [
       "SGDRegressor(alpha=1e-05)"
      ]
     },
     "execution_count": 15,
     "metadata": {},
     "output_type": "execute_result"
    }
   ],
   "source": [
    "reg = SGDRegressor(alpha = 0.00001, max_iter = 1000)\n",
    "reg.fit(X_train, y_train)"
   ]
  },
  {
   "cell_type": "code",
   "execution_count": 16,
   "id": "29bc8aa3",
   "metadata": {},
   "outputs": [
    {
     "data": {
      "text/plain": [
       "array([154.378347  , 184.3284537 , 145.48258911, 116.00481101,\n",
       "       225.03758466, 219.25083032, 110.71171064, 118.85422789,\n",
       "        99.17407359, 179.99139313, 165.1084001 , 169.39532914,\n",
       "       181.64970803, 156.92625794, 227.32986716, 102.70117799,\n",
       "       176.14218792, 136.99103423, 144.14956049, 143.67543241,\n",
       "       128.87090507, 192.91179961, 170.80370572, 176.38681122,\n",
       "       129.48356386, 210.34822852, 186.74931367, 132.77160693,\n",
       "        78.27992527, 231.5764248 , 223.61463625, 126.02786247,\n",
       "        87.82911527, 121.26254268, 191.84827899, 165.80408958,\n",
       "       167.17600141, 192.21572276, 121.0011819 , 220.12792217,\n",
       "       135.5471233 , 132.45001496, 181.08674706, 181.73147254,\n",
       "       166.05307487, 148.28801369, 171.78478334, 253.8558005 ,\n",
       "       126.24170094, 192.29775478, 218.13411798, 128.45688113,\n",
       "       141.64084787, 159.78500248, 183.88295032, 125.27422664,\n",
       "       165.25906702,  98.32320259, 157.52089929, 140.40217877,\n",
       "       162.56276288, 172.86140838, 119.66070402, 190.4824423 ,\n",
       "       160.09805041, 162.41023283, 146.88973501, 182.14375744,\n",
       "       124.46761123, 150.6714345 , 189.81177765, 177.59465454,\n",
       "       124.14387757, 148.80721944, 140.37795075, 120.65474449,\n",
       "        96.91095837, 102.24704844, 168.80308784, 101.22852724,\n",
       "       107.72713495, 118.52952968, 158.03908821, 238.6382663 ,\n",
       "       190.7508852 , 139.26084743, 225.98739501, 174.20643957,\n",
       "       125.18841767])"
      ]
     },
     "execution_count": 16,
     "metadata": {},
     "output_type": "execute_result"
    }
   ],
   "source": [
    "y_pred2 = reg.predict(X_test)\n",
    "y_pred2"
   ]
  },
  {
   "cell_type": "code",
   "execution_count": 17,
   "id": "ab005800",
   "metadata": {},
   "outputs": [
    {
     "name": "stdout",
     "output_type": "stream",
     "text": [
      "Co-efficients or Slopes or Weights :  [  61.7283821   -22.64721544  256.39570945  187.99869374   40.13377159\n",
      "   11.60954672 -141.22749872  122.93007744  239.21419019  118.01666636]\n",
      "Intercepts :  [151.95577937]\n"
     ]
    }
   ],
   "source": [
    "print(\"Co-efficients or Slopes or Weights : \", reg.coef_)\n",
    "print(\"Intercepts : \", reg.intercept_)"
   ]
  },
  {
   "cell_type": "code",
   "execution_count": 18,
   "id": "d990521b",
   "metadata": {},
   "outputs": [
    {
     "data": {
      "text/plain": [
       "0.39423008446649144"
      ]
     },
     "execution_count": 18,
     "metadata": {},
     "output_type": "execute_result"
    }
   ],
   "source": [
    "r2_score(y_test, y_pred2)"
   ]
  },
  {
   "cell_type": "markdown",
   "id": "0e700d07",
   "metadata": {},
   "source": [
    "## Writing our Own MBGDRegressor() Class"
   ]
  },
  {
   "cell_type": "code",
   "execution_count": 31,
   "id": "28cd3b96",
   "metadata": {},
   "outputs": [],
   "source": [
    "class MBSGDRegressor:\n",
    "    def __init__(self, batch_size, learning_rate, epochs):\n",
    "        self.coef_ = None  # weight or slop or coefficient\n",
    "        self.intercept_ = None  # intercept\n",
    "        \n",
    "        self.lr = learning_rate  # Setting the Learning Rate\n",
    "        self.epochs = epochs  # Setting the number of Epochs or Iterations\n",
    "        self.b_size = batch_size  # Setting the Batch Size\n",
    "        \n",
    "        \n",
    "    def fit(self, X_train, y_train):\n",
    "        \n",
    "        self.intercept_ = 0  # intercept, generally initialised with 0.\n",
    "        self.coef_ = np.ones(X_train.shape[1])  # weight or slop or coefficient, generally initialised with 1.\n",
    "        \n",
    "        # Running for loop for each epochs..\n",
    "        for i in range(self.epochs): \n",
    "            for j in range(int(X_train.shape[0]/self.b_size)):  # no. of Batches = total_size/batch_size..\n",
    "                \n",
    "                indx = random.sample(range(X_train.shape[0]), self.b_size)  \n",
    "                # choosing a random set of row of size = b_size and then we will perform our further operations..\n",
    "                \n",
    "                # Determining the value of (y_hat)\n",
    "                y_hat = np.dot(X_train[indx], self.coef_) + self.intercept_\n",
    "\n",
    "                # Finding slopes of loss_function using partial differentiation by m and b, i.e. dl/dm & dl/db\n",
    "                intercept_der = -2 * np.mean(y_train[indx] - y_hat)\n",
    "                coef_der = -2 * np.dot((y_train[indx] - y_hat), X_train[indx])\n",
    "\n",
    "                # Updating slope(m) and intercept(b) in each epochs..\n",
    "                self.intercept_ = self.intercept_ - (self.lr * intercept_der)  # b(new) = b(old) - (learnig_rate * dl/db)\n",
    "                self.coef_ = self.coef_ - (self.lr * coef_der)  # m(new) = m(old) - (learnig_rate * dl/dm)\n",
    "          \n",
    "        print(\"Co-efficient/Weights : \", self.coef_)\n",
    "        print(\"Intercept : \", self.intercept_)\n",
    "        \n",
    "    def predict(self, X_test):\n",
    "        return np.dot(X_test, self.coef_) + self.intercept_"
   ]
  },
  {
   "cell_type": "code",
   "execution_count": 32,
   "id": "13e93e87",
   "metadata": {},
   "outputs": [
    {
     "name": "stdout",
     "output_type": "stream",
     "text": [
      "Co-efficient/Weights :  [  56.4510549   -63.71062934  343.89000736  247.19648534   19.68930566\n",
      "  -27.75523759 -168.72047111  128.21441959  317.44394282  129.42113947]\n",
      "Intercept :  151.94597363349365\n"
     ]
    }
   ],
   "source": [
    "# Building Model with our own MultipleGDRegressor() Class..\n",
    "sgd = MBSGDRegressor(batch_size = 20, learning_rate = 0.001, epochs = 500)\n",
    "# sgd = MultipleGDRegressor(learning_rate = 0.8, epochs = 100)\n",
    "\n",
    "sgd.fit(X_train, y_train)  # Learning from data.."
   ]
  },
  {
   "cell_type": "code",
   "execution_count": 33,
   "id": "7df0e01a",
   "metadata": {},
   "outputs": [
    {
     "data": {
      "text/plain": [
       "array([154.04707377, 190.7866595 , 140.12279332, 109.56388466,\n",
       "       243.44112263, 234.97498021, 108.05450587, 115.03526863,\n",
       "        93.73509039, 184.46961107, 160.74079881, 172.36852327,\n",
       "       183.80399677, 150.8725984 , 252.26147602,  93.50728392,\n",
       "       184.87632241, 139.40840615, 140.38867948, 139.44190135,\n",
       "       132.3002348 , 189.6760138 , 166.48327279, 177.99921637,\n",
       "       127.06813029, 218.67221749, 194.43650536, 121.5634946 ,\n",
       "        64.11032195, 240.12859034, 234.84252219, 119.82681536,\n",
       "        75.65682789, 111.03158853, 199.3854656 , 165.82308742,\n",
       "       167.16909814, 195.71108837, 115.81357552, 232.17922517,\n",
       "       135.96404931, 127.68185096, 184.63125128, 185.93573032,\n",
       "       170.14804704, 146.09153304, 173.3682044 , 276.32685751,\n",
       "       118.36914285, 188.98065461, 235.42995269, 129.90601203,\n",
       "       143.40811301, 150.48219298, 189.29177127, 114.34242978,\n",
       "       156.10364436,  87.23951819, 158.54044135, 143.21694179,\n",
       "       163.94987193, 171.09682968, 111.55323048, 204.21967665,\n",
       "       157.08090943, 154.32052415, 151.00342339, 187.21070867,\n",
       "       122.18442075, 143.88452022, 200.82921867, 186.0164374 ,\n",
       "       121.01414214, 150.78624348, 141.26426653, 114.69660469,\n",
       "        87.08286155,  90.3919985 , 170.63822489,  90.7995892 ,\n",
       "       100.16628006, 109.89846929, 164.22149509, 256.68234156,\n",
       "       199.00582713, 139.69428905, 248.70872529, 184.10058547,\n",
       "       115.21797898])"
      ]
     },
     "execution_count": 33,
     "metadata": {},
     "output_type": "execute_result"
    }
   ],
   "source": [
    "# predicting values from test data.\n",
    "y_pred = sgd.predict(X_test)\n",
    "y_pred"
   ]
  },
  {
   "cell_type": "code",
   "execution_count": 34,
   "id": "87c13714",
   "metadata": {},
   "outputs": [
    {
     "data": {
      "text/plain": [
       "0.43151238679276094"
      ]
     },
     "execution_count": 34,
     "metadata": {},
     "output_type": "execute_result"
    }
   ],
   "source": [
    "# Checking score of the Algorithm..\n",
    "r2_score(y_test, y_pred)"
   ]
  },
  {
   "cell_type": "markdown",
   "id": "175654ff",
   "metadata": {},
   "source": [
    "#### Observe that the Accuracy for both own MBSGDRegressor() class and Scikit-Learn's SGDRegressor() class are same.."
   ]
  }
 ],
 "metadata": {
  "kernelspec": {
   "display_name": "Python 3 (ipykernel)",
   "language": "python",
   "name": "python3"
  },
  "language_info": {
   "codemirror_mode": {
    "name": "ipython",
    "version": 3
   },
   "file_extension": ".py",
   "mimetype": "text/x-python",
   "name": "python",
   "nbconvert_exporter": "python",
   "pygments_lexer": "ipython3",
   "version": "3.9.12"
  }
 },
 "nbformat": 4,
 "nbformat_minor": 5
}
