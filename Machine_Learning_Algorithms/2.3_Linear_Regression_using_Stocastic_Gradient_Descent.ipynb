{
 "cells": [
  {
   "cell_type": "markdown",
   "id": "1511a921",
   "metadata": {},
   "source": [
    "# Implementation of Multiple_Linear_Regression Using Stocastic_Gradient_Descent"
   ]
  },
  {
   "cell_type": "code",
   "execution_count": 1,
   "id": "b6ce2068",
   "metadata": {},
   "outputs": [],
   "source": [
    "import numpy as np\n",
    "import pandas as pd\n",
    "from sklearn.datasets import load_diabetes\n",
    "from sklearn.linear_model import LinearRegression\n",
    "from sklearn.linear_model import SGDRegressor\n",
    "from sklearn.model_selection import train_test_split\n",
    "from sklearn.metrics import r2_score, mean_squared_error\n",
    "import matplotlib.pyplot as plt"
   ]
  },
  {
   "cell_type": "markdown",
   "id": "4b53ab94",
   "metadata": {},
   "source": [
    "### Importing and Splitting of Dataset into Train and Test.."
   ]
  },
  {
   "cell_type": "code",
   "execution_count": 2,
   "id": "66cd9a1b",
   "metadata": {},
   "outputs": [],
   "source": [
    "# Loading sklearn's built-in dataset..\n",
    "X, y = load_diabetes(return_X_y = True)"
   ]
  },
  {
   "cell_type": "code",
   "execution_count": 3,
   "id": "85491914",
   "metadata": {},
   "outputs": [
    {
     "data": {
      "text/plain": [
       "array([[ 0.03807591,  0.05068012,  0.06169621, ..., -0.00259226,\n",
       "         0.01990842, -0.01764613],\n",
       "       [-0.00188202, -0.04464164, -0.05147406, ..., -0.03949338,\n",
       "        -0.06832974, -0.09220405],\n",
       "       [ 0.08529891,  0.05068012,  0.04445121, ..., -0.00259226,\n",
       "         0.00286377, -0.02593034],\n",
       "       ...,\n",
       "       [ 0.04170844,  0.05068012, -0.01590626, ..., -0.01107952,\n",
       "        -0.04687948,  0.01549073],\n",
       "       [-0.04547248, -0.04464164,  0.03906215, ...,  0.02655962,\n",
       "         0.04452837, -0.02593034],\n",
       "       [-0.04547248, -0.04464164, -0.0730303 , ..., -0.03949338,\n",
       "        -0.00421986,  0.00306441]])"
      ]
     },
     "execution_count": 3,
     "metadata": {},
     "output_type": "execute_result"
    }
   ],
   "source": [
    "X   # X contains all features and y contains target variables"
   ]
  },
  {
   "cell_type": "code",
   "execution_count": 4,
   "id": "4306a623",
   "metadata": {},
   "outputs": [
    {
     "data": {
      "text/plain": [
       "((442, 10), (442,))"
      ]
     },
     "execution_count": 4,
     "metadata": {},
     "output_type": "execute_result"
    }
   ],
   "source": [
    "X.shape, y.shape"
   ]
  },
  {
   "cell_type": "code",
   "execution_count": 5,
   "id": "3bbbc5b0",
   "metadata": {},
   "outputs": [],
   "source": [
    "# Splitting Data into Train and Test..\n",
    "X_train, X_test, y_train, y_test = train_test_split(X, y, test_size = 0.2, random_state = 2)"
   ]
  },
  {
   "cell_type": "code",
   "execution_count": 6,
   "id": "f5c5c167",
   "metadata": {},
   "outputs": [
    {
     "name": "stdout",
     "output_type": "stream",
     "text": [
      "Shape of X_train :  (353, 10)\n",
      "Shape of y_train :  (353,)\n",
      "Shape of X_test :  (89, 10)\n",
      "Shape of y_test :  (89,)\n"
     ]
    }
   ],
   "source": [
    "print(\"Shape of X_train : \", X_train.shape)\n",
    "print(\"Shape of y_train : \", y_train.shape)\n",
    "print(\"Shape of X_test : \", X_test.shape)\n",
    "print(\"Shape of y_test : \", y_test.shape)"
   ]
  },
  {
   "cell_type": "markdown",
   "id": "b01bdd65",
   "metadata": {},
   "source": [
    "### Using SciKit_Learn's LinearRegression() Class"
   ]
  },
  {
   "cell_type": "code",
   "execution_count": 60,
   "id": "40224b87",
   "metadata": {},
   "outputs": [
    {
     "name": "stderr",
     "output_type": "stream",
     "text": [
      "C:\\ProgramData\\Anaconda3\\lib\\site-packages\\sklearn\\linear_model\\_stochastic_gradient.py:1503: ConvergenceWarning: Maximum number of iteration reached before convergence. Consider increasing max_iter to improve the fit.\n",
      "  warnings.warn(\n"
     ]
    },
    {
     "data": {
      "text/plain": [
       "SGDRegressor(alpha=9e-06)"
      ]
     },
     "execution_count": 60,
     "metadata": {},
     "output_type": "execute_result"
    }
   ],
   "source": [
    "reg = SGDRegressor(alpha = 0.000009, max_iter = 1000)\n",
    "reg.fit(X_train, y_train)"
   ]
  },
  {
   "cell_type": "code",
   "execution_count": 61,
   "id": "29bc8aa3",
   "metadata": {},
   "outputs": [
    {
     "data": {
      "text/plain": [
       "array([154.41987087, 184.33603572, 145.51848658, 116.05206391,\n",
       "       225.05687365, 219.28357074, 110.77712452, 118.91940419,\n",
       "        99.24888249, 180.01530222, 165.10494465, 169.44648512,\n",
       "       181.67538266, 156.95916533, 227.38056626, 102.74759146,\n",
       "       176.19563532, 137.05693458, 144.17392289, 143.71695508,\n",
       "       128.94869785, 192.88537729, 170.8325912 , 176.41029331,\n",
       "       129.53830811, 210.36340995, 186.76943466, 132.79680233,\n",
       "        78.36408309, 231.55350865, 223.62889493, 126.08865377,\n",
       "        87.90032801, 121.30398533, 191.86269897, 165.84839117,\n",
       "       167.20038062, 192.23574244, 121.06519251, 220.15407908,\n",
       "       135.5847817 , 132.49716991, 181.10492832, 181.75672922,\n",
       "       166.10570152, 148.32790616, 171.81817016, 253.86697589,\n",
       "       126.29017591, 192.30340745, 218.13911614, 128.53165885,\n",
       "       141.7048827 , 159.80591499, 183.9133755 , 125.31828059,\n",
       "       165.27454011,  98.3709852 , 157.56172798, 140.46784136,\n",
       "       162.6103585 , 172.8897143 , 119.7134163 , 190.53917113,\n",
       "       160.12950397, 162.41885862, 146.95065381, 182.19964251,\n",
       "       124.54206609, 150.69141573, 189.85984088, 177.64134444,\n",
       "       124.22602133, 148.85325987, 140.43735382, 120.71364453,\n",
       "        96.96993094, 102.2937648 , 168.83519948, 101.27065835,\n",
       "       107.80177514, 118.60052   , 158.09260554, 238.6403897 ,\n",
       "       190.78286556, 139.31193769, 226.04056047, 174.27145467,\n",
       "       125.23036265])"
      ]
     },
     "execution_count": 61,
     "metadata": {},
     "output_type": "execute_result"
    }
   ],
   "source": [
    "y_pred2 = reg.predict(X_test)\n",
    "y_pred2"
   ]
  },
  {
   "cell_type": "code",
   "execution_count": 62,
   "id": "ab005800",
   "metadata": {},
   "outputs": [
    {
     "name": "stdout",
     "output_type": "stream",
     "text": [
      "Co-efficients or Slopes or Weights :  [  61.78687085  -22.89291366  256.3536611   188.00180035   39.97660423\n",
      "   11.55180823 -141.3489749   122.81735849  239.24113022  117.83769874]\n",
      "Intercepts :  [151.99967414]\n"
     ]
    }
   ],
   "source": [
    "print(\"Co-efficients or Slopes or Weights : \", reg.coef_)\n",
    "print(\"Intercepts : \", reg.intercept_)"
   ]
  },
  {
   "cell_type": "code",
   "execution_count": 63,
   "id": "d990521b",
   "metadata": {},
   "outputs": [
    {
     "data": {
      "text/plain": [
       "0.3942845312845865"
      ]
     },
     "execution_count": 63,
     "metadata": {},
     "output_type": "execute_result"
    }
   ],
   "source": [
    "r2_score(y_test, y_pred2)"
   ]
  },
  {
   "cell_type": "markdown",
   "id": "0e700d07",
   "metadata": {},
   "source": [
    "## Writing our Own SGDRegressor() Class"
   ]
  },
  {
   "cell_type": "code",
   "execution_count": 86,
   "id": "28cd3b96",
   "metadata": {},
   "outputs": [],
   "source": [
    "class MySGDRegressor:\n",
    "    def __init__(self, learning_rate, epochs):\n",
    "        self.coef_ = None  # weight or slop or coefficient\n",
    "        self.intercept_ = None  # intercept\n",
    "        \n",
    "        self.lr = learning_rate  # Setting the Learning Rate\n",
    "        self.epochs = epochs  # Setting the number of Epochs or Iterations\n",
    "        \n",
    "    def fit(self, X_train, y_train):\n",
    "        \n",
    "        self.intercept_ = 0  # intercept, generally initialised with 0.\n",
    "        self.coef_ = np.ones(X_train.shape[1])  # weight or slop or coefficient, generally initialised with 1.\n",
    "        \n",
    "        # Running for loop for each epochs..\n",
    "        for i in range(self.epochs): \n",
    "            for j in range(X_train.shape[0]):\n",
    "                \n",
    "                indx = np.random.randint(0, X_train.shape[0]) # Choosing a row randomly row to perform our operations..\n",
    "                \n",
    "                # Determining the value of (y_hat)\n",
    "                y_hat = np.dot(X_train[indx], self.coef_) + self.intercept_\n",
    "\n",
    "                # Finding slopes of loss_function using partial differentiation by m and b, i.e. dl/dm & dl/db\n",
    "                intercept_der = -2 * (y_train[indx] - y_hat)\n",
    "                coef_der = -2 * np.dot((y_train[indx] - y_hat), X_train[indx])\n",
    "\n",
    "                # Updating slope(m) and intercept(b) in each epochs..\n",
    "                self.intercept_ = self.intercept_ - (self.lr * intercept_der)  # b(new) = b(old) - (learnig_rate * dl/db)\n",
    "                self.coef_ = self.coef_ - (self.lr * coef_der)  # m(new) = m(old) - (learnig_rate * dl/dm)\n",
    "          \n",
    "        print(\"Co-efficient/Weights : \", self.coef_)\n",
    "        print(\"Intercept : \", self.intercept_)\n",
    "        \n",
    "    def predict(self, X_test):\n",
    "        return np.dot(X_test, self.coef_) + self.intercept_"
   ]
  },
  {
   "cell_type": "code",
   "execution_count": 87,
   "id": "13e93e87",
   "metadata": {},
   "outputs": [
    {
     "name": "stdout",
     "output_type": "stream",
     "text": [
      "Co-efficient/Weights :  [  56.11997851  -67.75725629  352.05785023  248.75088333   16.30853678\n",
      "  -30.52292269 -173.44314991  129.80487741  321.15119201  127.62818524]\n",
      "Intercept :  150.0274169347985\n"
     ]
    }
   ],
   "source": [
    "# Building Model with our own MultipleGDRegressor() Class..\n",
    "sgd = MySGDRegressor(learning_rate = 0.001, epochs = 500)\n",
    "# sgd = MultipleGDRegressor(learning_rate = 0.8, epochs = 100)\n",
    "\n",
    "sgd.fit(X_train, y_train)  # Learning from data.."
   ]
  },
  {
   "cell_type": "code",
   "execution_count": 88,
   "id": "7df0e01a",
   "metadata": {},
   "outputs": [
    {
     "data": {
      "text/plain": [
       "array([151.6832657 , 189.00222424, 137.84691184, 106.95524394,\n",
       "       242.50550236, 234.73180161, 105.70069033, 112.91703788,\n",
       "        91.40296375, 183.01740739, 157.95268853, 170.80330528,\n",
       "       182.20707886, 148.57123193, 252.03553949,  90.50053695,\n",
       "       183.76617475, 137.52112861, 137.96415426, 137.26479294,\n",
       "       131.06177108, 187.28011816, 164.40200033, 175.85897008,\n",
       "       124.77220511, 217.5030724 , 192.86204028, 118.55595832,\n",
       "        61.75976114, 238.32232327, 233.92116916, 117.46051162,\n",
       "        73.20419751, 108.49524517, 197.60751188, 164.23042682,\n",
       "       165.02088107, 193.95909423, 113.54925416, 230.5288011 ,\n",
       "       134.25132593, 125.3656494 , 183.19971973, 184.15987254,\n",
       "       168.80501563, 144.32491939, 171.48387105, 275.83854254,\n",
       "       115.99580145, 186.67131692, 234.01248606, 128.70173422,\n",
       "       141.88992165, 148.11307417, 187.49732028, 111.89161705,\n",
       "       153.39306974,  84.41633582, 156.39418424, 141.94157477,\n",
       "       161.99826079, 169.21162054, 109.04209733, 203.15827938,\n",
       "       155.22106941, 151.43802648, 149.65127022, 185.97308787,\n",
       "       120.25973773, 141.3227893 , 199.80678825, 184.77234717,\n",
       "       119.27326434, 148.8482511 , 139.14540047, 112.68701111,\n",
       "        84.76238234,  87.94588978, 168.96445708,  88.19123629,\n",
       "        98.54891466, 108.1114969 , 163.11598731, 255.86339423,\n",
       "       197.4661605 , 138.2622002 , 248.48141409, 183.21986909,\n",
       "       112.48536904])"
      ]
     },
     "execution_count": 88,
     "metadata": {},
     "output_type": "execute_result"
    }
   ],
   "source": [
    "# predicting values from test data.\n",
    "y_pred = sgd.predict(X_test)\n",
    "y_pred"
   ]
  },
  {
   "cell_type": "code",
   "execution_count": 89,
   "id": "87c13714",
   "metadata": {},
   "outputs": [
    {
     "data": {
      "text/plain": [
       "0.4332181805766242"
      ]
     },
     "execution_count": 89,
     "metadata": {},
     "output_type": "execute_result"
    }
   ],
   "source": [
    "# Checking score of the Algorithm..\n",
    "r2_score(y_test, y_pred)"
   ]
  },
  {
   "cell_type": "markdown",
   "id": "175654ff",
   "metadata": {},
   "source": [
    "#### Observe that the Accuracy for both own MySGDRegressor() class and Scikit-Learn's SGDRegressor() class are same.."
   ]
  }
 ],
 "metadata": {
  "kernelspec": {
   "display_name": "Python 3 (ipykernel)",
   "language": "python",
   "name": "python3"
  },
  "language_info": {
   "codemirror_mode": {
    "name": "ipython",
    "version": 3
   },
   "file_extension": ".py",
   "mimetype": "text/x-python",
   "name": "python",
   "nbconvert_exporter": "python",
   "pygments_lexer": "ipython3",
   "version": "3.9.12"
  }
 },
 "nbformat": 4,
 "nbformat_minor": 5
}
