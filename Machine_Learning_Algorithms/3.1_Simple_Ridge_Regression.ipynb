{
 "cells": [
  {
   "cell_type": "markdown",
   "id": "d0db9244",
   "metadata": {},
   "source": [
    "# Simple Ridge regression.."
   ]
  },
  {
   "cell_type": "code",
   "execution_count": 1,
   "id": "34bb78cb",
   "metadata": {},
   "outputs": [],
   "source": [
    "from sklearn.datasets import make_regression\n",
    "import numpy as np\n",
    "import matplotlib.pyplot as plt"
   ]
  },
  {
   "cell_type": "code",
   "execution_count": 13,
   "id": "f1691f35",
   "metadata": {},
   "outputs": [],
   "source": [
    "# creating data for linear Regression using sklearn's make_regression..\n",
    "X,y = make_regression(n_samples=100, n_features=1, n_informative=1, n_targets=1,noise=20,random_state=13)"
   ]
  },
  {
   "cell_type": "code",
   "execution_count": 14,
   "id": "cbcfd264",
   "metadata": {},
   "outputs": [
    {
     "data": {
      "text/plain": [
       "<function matplotlib.pyplot.show(close=None, block=None)>"
      ]
     },
     "execution_count": 14,
     "metadata": {},
     "output_type": "execute_result"
    },
    {
     "data": {
      "image/png": "[encoded data removed]",
      "text/plain": [
       "<Figure size 432x288 with 1 Axes>"
      ]
     },
     "metadata": {
      "needs_background": "light"
     },
     "output_type": "display_data"
    }
   ],
   "source": [
    "plt.scatter(X,y)\n",
    "plt.show"
   ]
  },
  {
   "cell_type": "code",
   "execution_count": 4,
   "id": "1f3f84be",
   "metadata": {},
   "outputs": [],
   "source": [
    "from sklearn.linear_model import LinearRegression\n",
    "from sklearn.linear_model import Ridge"
   ]
  },
  {
   "cell_type": "code",
   "execution_count": 5,
   "id": "8322c0bd",
   "metadata": {},
   "outputs": [
    {
     "name": "stdout",
     "output_type": "stream",
     "text": [
      "[27.82809103]\n",
      "-2.29474455867698\n"
     ]
    }
   ],
   "source": [
    "# Ridge Regression with Alpha = 0, is nothing but the Linear Regression itself.\n",
    "lr = LinearRegression()\n",
    "lr.fit(X,y)\n",
    "print(lr.coef_)\n",
    "print(lr.intercept_)"
   ]
  },
  {
   "cell_type": "code",
   "execution_count": 6,
   "id": "a363650b",
   "metadata": {},
   "outputs": [
    {
     "name": "stdout",
     "output_type": "stream",
     "text": [
      "[24.9546267]\n",
      "-2.1269130035235726\n"
     ]
    }
   ],
   "source": [
    "# performing Ridge regression with alpha = 10\n",
    "rr = Ridge(alpha = 10)\n",
    "rr.fit(X,y)\n",
    "print(rr.coef_)\n",
    "print(rr.intercept_)"
   ]
  },
  {
   "cell_type": "code",
   "execution_count": 15,
   "id": "23f6cf72",
   "metadata": {},
   "outputs": [
    {
     "name": "stdout",
     "output_type": "stream",
     "text": [
      "[12.93442104]\n",
      "-1.4248441496033308\n"
     ]
    }
   ],
   "source": [
    "# performing Ridge regression with alpha = 100\n",
    "rr1 = Ridge(alpha = 100)\n",
    "rr1.fit(X,y)\n",
    "print(rr1.coef_)\n",
    "print(rr1.intercept_)"
   ]
  },
  {
   "cell_type": "code",
   "execution_count": 16,
   "id": "9c370156",
   "metadata": {},
   "outputs": [
    {
     "data": {
      "text/plain": [
       "<function matplotlib.pyplot.show(close=None, block=None)>"
      ]
     },
     "execution_count": 16,
     "metadata": {},
     "output_type": "execute_result"
    },
    {
     "data": {
      "image/png": "[encoded data removed]",
      "text/plain": [
       "<Figure size 432x288 with 1 Axes>"
      ]
     },
     "metadata": {
      "needs_background": "light"
     },
     "output_type": "display_data"
    }
   ],
   "source": [
    "plt.scatter(X,y)\n",
    "plt.plot(X,lr.predict(X), color='yellow', label='alpha = 0')\n",
    "plt.plot(X,rr.predict(X), color='green', label='alpha = 10')\n",
    "plt.plot(X,rr1.predict(X), color='red', label='alpha = 100')\n",
    "plt.legend()\n",
    "plt.show"
   ]
  },
  {
   "cell_type": "markdown",
   "id": "48a428b4",
   "metadata": {},
   "source": [
    "#### As you can see Ridge with alpha=10 gives slightly more accuracy than normal Linear Regression, whereas Ridge with alpha=100 deviated from the actual solution.\n",
    "#### so, we have to be carefull on choosing appropiate value of alpha while performing ridge regression."
   ]
  },
  {
   "cell_type": "markdown",
   "id": "a39af1b4",
   "metadata": {},
   "source": [
    "## Writing our own Ridge Regression Class from the Scratch."
   ]
  },
  {
   "cell_type": "code",
   "execution_count": 17,
   "id": "038c7756",
   "metadata": {},
   "outputs": [],
   "source": [
    "class MyRidge:\n",
    "    def __init__(self, alpha=0.1):\n",
    "        self.alpha = alpha\n",
    "        self.m = None;\n",
    "        self.b = None\n",
    "    def fit(self, X, y):\n",
    "        num = 0\n",
    "        den = 0\n",
    "        for i in range(X.shape[0]):\n",
    "            num = num + (y[i] - y.mean()) * (X[i] - X.mean())\n",
    "            den = den + (X[i] - X.mean()) * (X[i] - X.mean())\n",
    "            \n",
    "        self.m = num / (den + self.alpha)\n",
    "        self.b = y.mean() - self.m * X.mean()\n",
    "        print(self.m, self.b)\n",
    "        \n",
    "    def predict(X):\n",
    "        pass"
   ]
  },
  {
   "cell_type": "code",
   "execution_count": 12,
   "id": "dfc0139c",
   "metadata": {},
   "outputs": [
    {
     "name": "stdout",
     "output_type": "stream",
     "text": [
      "[24.9546267] [-2.126913]\n"
     ]
    }
   ],
   "source": [
    "rr2 = MyRidge(alpha = 10)\n",
    "rr2.fit(X, y)"
   ]
  },
  {
   "cell_type": "markdown",
   "id": "138719d4",
   "metadata": {},
   "source": [
    "#### you can see that the coefficient and the intercept obtained from MyRidge() class is same as that was obtained from Sklearn's own Ridge() class"
   ]
  }
 ],
 "metadata": {
  "kernelspec": {
   "display_name": "Python 3 (ipykernel)",
   "language": "python",
   "name": "python3"
  },
  "language_info": {
   "codemirror_mode": {
    "name": "ipython",
    "version": 3
   },
   "file_extension": ".py",
   "mimetype": "text/x-python",
   "name": "python",
   "nbconvert_exporter": "python",
   "pygments_lexer": "ipython3",
   "version": "3.9.12"
  }
 },
 "nbformat": 4,
 "nbformat_minor": 5
}
