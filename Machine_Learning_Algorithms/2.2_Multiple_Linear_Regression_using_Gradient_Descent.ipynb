{
 "cells": [
  {
   "cell_type": "markdown",
   "id": "88c6ddec",
   "metadata": {},
   "source": [
    "# Implementation of Multiple_Linear_Regression Using Gradient_Descent Algorithm"
   ]
  },
  {
   "cell_type": "code",
   "execution_count": 1,
   "id": "a4ac9ef6",
   "metadata": {},
   "outputs": [],
   "source": [
    "import numpy as np\n",
    "import pandas as pd\n",
    "from sklearn.datasets import load_diabetes\n",
    "from sklearn.linear_model import LinearRegression\n",
    "from sklearn.linear_model import SGDRegressor\n",
    "from sklearn.model_selection import train_test_split\n",
    "from sklearn.metrics import r2_score, mean_squared_error\n",
    "import matplotlib.pyplot as plt"
   ]
  },
  {
   "cell_type": "markdown",
   "id": "ad3425a5",
   "metadata": {},
   "source": [
    "### Importing and Splitting of Dataset into Train and Test.."
   ]
  },
  {
   "cell_type": "code",
   "execution_count": 2,
   "id": "a36ea29a",
   "metadata": {},
   "outputs": [],
   "source": [
    "# Loading sklearn's built-in dataset..\n",
    "X, y = load_diabetes(return_X_y = True)"
   ]
  },
  {
   "cell_type": "code",
   "execution_count": 3,
   "id": "4c8eb687",
   "metadata": {},
   "outputs": [
    {
     "data": {
      "text/plain": [
       "array([[ 0.03807591,  0.05068012,  0.06169621, ..., -0.00259226,\n",
       "         0.01990842, -0.01764613],\n",
       "       [-0.00188202, -0.04464164, -0.05147406, ..., -0.03949338,\n",
       "        -0.06832974, -0.09220405],\n",
       "       [ 0.08529891,  0.05068012,  0.04445121, ..., -0.00259226,\n",
       "         0.00286377, -0.02593034],\n",
       "       ...,\n",
       "       [ 0.04170844,  0.05068012, -0.01590626, ..., -0.01107952,\n",
       "        -0.04687948,  0.01549073],\n",
       "       [-0.04547248, -0.04464164,  0.03906215, ...,  0.02655962,\n",
       "         0.04452837, -0.02593034],\n",
       "       [-0.04547248, -0.04464164, -0.0730303 , ..., -0.03949338,\n",
       "        -0.00421986,  0.00306441]])"
      ]
     },
     "execution_count": 3,
     "metadata": {},
     "output_type": "execute_result"
    }
   ],
   "source": [
    "X   # X contains all features and y contains target variables"
   ]
  },
  {
   "cell_type": "code",
   "execution_count": 4,
   "id": "c15c1e9b",
   "metadata": {},
   "outputs": [
    {
     "data": {
      "text/plain": [
       "((442, 10), (442,))"
      ]
     },
     "execution_count": 4,
     "metadata": {},
     "output_type": "execute_result"
    }
   ],
   "source": [
    "X.shape, y.shape"
   ]
  },
  {
   "cell_type": "code",
   "execution_count": 5,
   "id": "286d181d",
   "metadata": {},
   "outputs": [],
   "source": [
    "# Splitting Data into Train and Test..\n",
    "X_train, X_test, y_train, y_test = train_test_split(X, y, test_size = 0.2, random_state = 2)"
   ]
  },
  {
   "cell_type": "code",
   "execution_count": 6,
   "id": "f815c492",
   "metadata": {},
   "outputs": [
    {
     "name": "stdout",
     "output_type": "stream",
     "text": [
      "Shape of X_train :  (353, 10)\n",
      "Shape of y_train :  (353,)\n",
      "Shape of X_test :  (89, 10)\n",
      "Shape of y_test :  (89,)\n"
     ]
    }
   ],
   "source": [
    "print(\"Shape of X_train : \", X_train.shape)\n",
    "print(\"Shape of y_train : \", y_train.shape)\n",
    "print(\"Shape of X_test : \", X_test.shape)\n",
    "print(\"Shape of y_test : \", y_test.shape)"
   ]
  },
  {
   "cell_type": "markdown",
   "id": "c44333bd",
   "metadata": {},
   "source": [
    "### Using SciKit_Learn's LinearRegression() Class"
   ]
  },
  {
   "cell_type": "code",
   "execution_count": 7,
   "id": "5a66f0e3",
   "metadata": {},
   "outputs": [
    {
     "data": {
      "text/plain": [
       "LinearRegression()"
      ]
     },
     "execution_count": 7,
     "metadata": {},
     "output_type": "execute_result"
    }
   ],
   "source": [
    "reg = LinearRegression()\n",
    "reg.fit(X_train, y_train)"
   ]
  },
  {
   "cell_type": "code",
   "execution_count": 8,
   "id": "7423a7c7",
   "metadata": {},
   "outputs": [
    {
     "data": {
      "text/plain": [
       "array([154.1235067 , 204.81721599, 124.92988001, 106.09339576,\n",
       "       258.53035681, 256.32953702, 118.75258786, 119.52147402,\n",
       "       101.50717468, 190.54137158, 141.70360267, 172.51631204,\n",
       "       174.34089304, 134.81184017, 294.13950798,  94.11403289,\n",
       "       211.97052873, 156.49984762, 134.20709632, 119.62534726,\n",
       "       148.88045343, 165.00378118, 151.09977307, 176.03719872,\n",
       "       133.27651748, 221.29531227, 197.17482787,  96.15923158,\n",
       "        50.26531577, 230.48342249, 242.06266394, 114.1153262 ,\n",
       "        67.0785352 ,  94.53179042, 201.21593262, 167.05306138,\n",
       "       159.87838519, 192.78601513, 114.49291816, 233.4825497 ,\n",
       "       140.82309666, 121.06814332, 192.27431013, 191.13157307,\n",
       "       179.1698153 , 148.35140027, 163.47610288, 276.81203359,\n",
       "       100.17813072, 164.11265163, 255.81074398, 136.94979051,\n",
       "       152.37507828, 107.92662528, 194.21661635,  77.35015426,\n",
       "       118.50951725,  68.38527563, 154.29094022, 162.48905632,\n",
       "       168.36590928, 156.8764705 ,  97.13958436, 238.17121803,\n",
       "       145.46093854, 117.65678691, 168.88768692, 198.38893625,\n",
       "       118.24408332, 124.64831033, 223.17842907, 200.62634508,\n",
       "       129.54591274, 158.1553552 , 154.33593871, 114.47109854,\n",
       "        70.4524892 ,  76.39237963, 172.41319558,  80.56189628,\n",
       "        80.27309695,  89.46135201, 186.21265361, 275.46607679,\n",
       "       208.26816596, 143.7962915 , 291.28438095, 206.32601303,\n",
       "        94.22801028])"
      ]
     },
     "execution_count": 8,
     "metadata": {},
     "output_type": "execute_result"
    }
   ],
   "source": [
    "y_pred2 = reg.predict(X_test)\n",
    "y_pred2"
   ]
  },
  {
   "cell_type": "code",
   "execution_count": 9,
   "id": "7130e4e4",
   "metadata": {},
   "outputs": [
    {
     "name": "stdout",
     "output_type": "stream",
     "text": [
      "Co-efficients or Slopes or Weights :  [  -9.16088483 -205.46225988  516.68462383  340.62734108 -895.54360867\n",
      "  561.21453306  153.88478595  126.73431596  861.12139955   52.41982836]\n",
      "Intercepts :  151.88334520854633\n"
     ]
    }
   ],
   "source": [
    "print(\"Co-efficients or Slopes or Weights : \", reg.coef_)\n",
    "print(\"Intercepts : \", reg.intercept_)"
   ]
  },
  {
   "cell_type": "code",
   "execution_count": 10,
   "id": "fc9ed9aa",
   "metadata": {},
   "outputs": [
    {
     "data": {
      "text/plain": [
       "0.4399387660024645"
      ]
     },
     "execution_count": 10,
     "metadata": {},
     "output_type": "execute_result"
    }
   ],
   "source": [
    "r2_score(y_test, y_pred2)"
   ]
  },
  {
   "cell_type": "markdown",
   "id": "2a41b582",
   "metadata": {},
   "source": [
    "## Writing our Own MultipleGDRegressor() Class"
   ]
  },
  {
   "cell_type": "code",
   "execution_count": 15,
   "id": "b931bf12",
   "metadata": {},
   "outputs": [],
   "source": [
    "class MultipleGDRegressor:\n",
    "    def __init__(self, learning_rate, epochs):\n",
    "        self.coef_ = None  # weight or slop or coefficient.\n",
    "        self.intercept_ = None  # intercept.\n",
    "        \n",
    "        self.lr = learning_rate  # Setting the Learning Rate\n",
    "        self.epochs = epochs  # Setting the number of Epochs or Iterations\n",
    "        \n",
    "    def fit(self, X_train, y_train):\n",
    "        \n",
    "        self.intercept_ = 0  # intercept, generally initialised with 0.\n",
    "        self.coef_ = np.ones(X_train.shape[1])  # weight or slop or coefficient, initialised with Array of all 1s.\n",
    "        \n",
    "        # Running for loop for each epochs..\n",
    "        for i in range(self.epochs): \n",
    "            \n",
    "            # Determining the value of (y_hat)\n",
    "            y_hat = np.dot(X_train, self.coef_) + self.intercept_\n",
    "            \n",
    "            # Finding slopes of loss_function using partial differentiation by m and b, i.e. dl/dm & dl/db\n",
    "            intercept_der = -2 * np.mean(y_train - y_hat)\n",
    "            coef_der = -2 * np.dot((y_train - y_hat), X_train) / X_train.shape[0]\n",
    "            \n",
    "            # Updating slope(m) and intercept(b) in each epochs..\n",
    "            self.intercept_ = self.intercept_ - (self.lr * intercept_der)  # b(new) = b(old) - (learnig_rate * dl/db)\n",
    "            self.coef_ = self.coef_ - (self.lr * coef_der)  # coef(new) = coef(old) - (learnig_rate * dl/dm)\n",
    "          \n",
    "        print(\"Co-efficient/Weights : \", self.coef_)\n",
    "        print(\"Intercept : \", self.intercept_)\n",
    "        \n",
    "    def predict(self, X_test):\n",
    "        return np.dot(X_test, self.coef_) + self.intercept_"
   ]
  },
  {
   "cell_type": "code",
   "execution_count": 12,
   "id": "8b27540d",
   "metadata": {},
   "outputs": [
    {
     "name": "stdout",
     "output_type": "stream",
     "text": [
      "Co-efficient/Weights :  [  16.39739527 -169.60488374  486.77833156  321.67061813  -37.3178431\n",
      " -113.27936021 -193.98952168  104.804799    445.93768309  100.04030759]\n",
      "Intercept :  152.02089477912753\n"
     ]
    }
   ],
   "source": [
    "# Building Model with our own MultipleGDRegressor() Class..\n",
    "gd = MultipleGDRegressor(learning_rate = 0.95, epochs = 500)\n",
    "# sgd = MultipleGDRegressor(learning_rate = 0.8, epochs = 100)\n",
    "\n",
    "gd.fit(X_train, y_train)  # Learning from data.."
   ]
  },
  {
   "cell_type": "code",
   "execution_count": 13,
   "id": "fc29f407",
   "metadata": {},
   "outputs": [
    {
     "data": {
      "text/plain": [
       "array([152.31047551, 198.60713971, 128.14814454, 104.69653282,\n",
       "       264.60975104, 251.78982847, 112.53303682, 115.65764375,\n",
       "        96.14386619, 187.60707007, 145.5424313 , 172.26933121,\n",
       "       179.17535824, 137.00735816, 290.81751134,  87.23927441,\n",
       "       201.52085925, 148.76340321, 132.60127033, 129.21830096,\n",
       "       147.81855769, 172.46068718, 151.51805629, 174.59385815,\n",
       "       127.67583934, 221.94280112, 199.97961162, 102.15902239,\n",
       "        54.96314252, 237.84032994, 244.04075778, 113.1058621 ,\n",
       "        68.18448062,  96.43729876, 204.24721184, 164.08608595,\n",
       "       161.25194358, 192.12497231, 113.33164409, 238.4688459 ,\n",
       "       141.23142495, 120.70213832, 187.93787444, 186.52144249,\n",
       "       174.90101249, 143.31210064, 169.13090131, 298.61993407,\n",
       "       105.8814832 , 170.25383361, 253.91413206, 142.13613276,\n",
       "       151.43544048, 123.91404669, 191.52768383,  95.05083384,\n",
       "       130.07245878,  76.28739126, 158.03148844, 155.83804257,\n",
       "       163.23480014, 161.35648277, 102.54766406, 226.92945164,\n",
       "       146.88143643, 131.01126744, 160.74078221, 192.65267297,\n",
       "       123.00232665, 127.49163341, 217.26784482, 198.84629622,\n",
       "       123.24718462, 154.13063755, 146.0568619 , 112.36357432,\n",
       "        80.6077682 ,  78.24726609, 169.46326038,  81.3142695 ,\n",
       "        97.34311688,  98.46768178, 178.81099184, 275.05212101,\n",
       "       206.12881985, 146.52113182, 281.53166661, 201.78858796,\n",
       "        98.95382424])"
      ]
     },
     "execution_count": 13,
     "metadata": {},
     "output_type": "execute_result"
    }
   ],
   "source": [
    "# predicting values from test data.\n",
    "y_pred = gd.predict(X_test)\n",
    "y_pred"
   ]
  },
  {
   "cell_type": "code",
   "execution_count": 14,
   "id": "0a4de561",
   "metadata": {},
   "outputs": [
    {
     "data": {
      "text/plain": [
       "0.4537070692803782"
      ]
     },
     "execution_count": 14,
     "metadata": {},
     "output_type": "execute_result"
    }
   ],
   "source": [
    "# Checking score of the Algorithm..\n",
    "r2_score(y_test, y_pred)"
   ]
  },
  {
   "cell_type": "markdown",
   "id": "c68a252f",
   "metadata": {},
   "source": [
    "#### Observe that the value of r2_score for our class is nearly same as the scikit-learns linearRegression() class  "
   ]
  }
 ],
 "metadata": {
  "kernelspec": {
   "display_name": "Python 3 (ipykernel)",
   "language": "python",
   "name": "python3"
  },
  "language_info": {
   "codemirror_mode": {
    "name": "ipython",
    "version": 3
   },
   "file_extension": ".py",
   "mimetype": "text/x-python",
   "name": "python",
   "nbconvert_exporter": "python",
   "pygments_lexer": "ipython3",
   "version": "3.9.12"
  }
 },
 "nbformat": 4,
 "nbformat_minor": 5
}
