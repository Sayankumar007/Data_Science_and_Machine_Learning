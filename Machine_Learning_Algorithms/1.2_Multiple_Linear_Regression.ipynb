{
 "cells": [
  {
   "cell_type": "markdown",
   "id": "d7fc1c92",
   "metadata": {},
   "source": [
    "# Implementation of Multiple Linear Regression Algorithm"
   ]
  },
  {
   "cell_type": "code",
   "execution_count": 36,
   "id": "28cc979d",
   "metadata": {},
   "outputs": [],
   "source": [
    "import numpy as np\n",
    "import pandas as pd\n",
    "from sklearn.datasets import load_diabetes\n",
    "from sklearn.linear_model import LinearRegression\n",
    "from sklearn.model_selection import train_test_split\n",
    "from sklearn.metrics import r2_score, mean_squared_error\n",
    "import matplotlib.pyplot as plt"
   ]
  },
  {
   "cell_type": "markdown",
   "id": "ff932759",
   "metadata": {},
   "source": [
    "### Importing and Splitting of Dataset into Train and Test.."
   ]
  },
  {
   "cell_type": "code",
   "execution_count": 37,
   "id": "ae591685",
   "metadata": {},
   "outputs": [],
   "source": [
    "# Loading sklearn's built-in dataset..\n",
    "X, y = load_diabetes(return_X_y = True)"
   ]
  },
  {
   "cell_type": "code",
   "execution_count": 38,
   "id": "0e26a587",
   "metadata": {},
   "outputs": [
    {
     "data": {
      "text/plain": [
       "array([[ 0.03807591,  0.05068012,  0.06169621, ..., -0.00259226,\n",
       "         0.01990842, -0.01764613],\n",
       "       [-0.00188202, -0.04464164, -0.05147406, ..., -0.03949338,\n",
       "        -0.06832974, -0.09220405],\n",
       "       [ 0.08529891,  0.05068012,  0.04445121, ..., -0.00259226,\n",
       "         0.00286377, -0.02593034],\n",
       "       ...,\n",
       "       [ 0.04170844,  0.05068012, -0.01590626, ..., -0.01107952,\n",
       "        -0.04687948,  0.01549073],\n",
       "       [-0.04547248, -0.04464164,  0.03906215, ...,  0.02655962,\n",
       "         0.04452837, -0.02593034],\n",
       "       [-0.04547248, -0.04464164, -0.0730303 , ..., -0.03949338,\n",
       "        -0.00421986,  0.00306441]])"
      ]
     },
     "execution_count": 38,
     "metadata": {},
     "output_type": "execute_result"
    }
   ],
   "source": [
    "X   # X contains all features and y contains target variables"
   ]
  },
  {
   "cell_type": "code",
   "execution_count": 39,
   "id": "e1c09647",
   "metadata": {},
   "outputs": [
    {
     "data": {
      "text/plain": [
       "((442, 10), (442,))"
      ]
     },
     "execution_count": 39,
     "metadata": {},
     "output_type": "execute_result"
    }
   ],
   "source": [
    "X.shape, y.shape"
   ]
  },
  {
   "cell_type": "code",
   "execution_count": 40,
   "id": "4a23bba6",
   "metadata": {},
   "outputs": [],
   "source": [
    "# Splitting Data into Train and Test..\n",
    "X_train, X_test, y_train, y_test = train_test_split(X, y, test_size = 0.2, random_state = 2)"
   ]
  },
  {
   "cell_type": "code",
   "execution_count": 41,
   "id": "6fe80915",
   "metadata": {},
   "outputs": [
    {
     "name": "stdout",
     "output_type": "stream",
     "text": [
      "Shape of X_train :  (353, 10)\n",
      "Shape of y_train :  (353,)\n",
      "Shape of X_test :  (89, 10)\n",
      "Shape of y_test :  (89,)\n"
     ]
    }
   ],
   "source": [
    "print(\"Shape of X_train : \", X_train.shape)\n",
    "print(\"Shape of y_train : \", y_train.shape)\n",
    "print(\"Shape of X_test : \", X_test.shape)\n",
    "print(\"Shape of y_test : \", y_test.shape)"
   ]
  },
  {
   "cell_type": "markdown",
   "id": "cb77ddf6",
   "metadata": {},
   "source": [
    "### Using SciKit_Learn's LinearRegression() Class"
   ]
  },
  {
   "cell_type": "code",
   "execution_count": 42,
   "id": "88c9f5ae",
   "metadata": {},
   "outputs": [
    {
     "data": {
      "text/plain": [
       "LinearRegression()"
      ]
     },
     "execution_count": 42,
     "metadata": {},
     "output_type": "execute_result"
    }
   ],
   "source": [
    "reg = LinearRegression()\n",
    "reg.fit(X_train, y_train)"
   ]
  },
  {
   "cell_type": "code",
   "execution_count": 43,
   "id": "079cf882",
   "metadata": {},
   "outputs": [],
   "source": [
    "y_pred = reg.predict(X_test)"
   ]
  },
  {
   "cell_type": "code",
   "execution_count": 44,
   "id": "5c71bf08",
   "metadata": {},
   "outputs": [
    {
     "name": "stdout",
     "output_type": "stream",
     "text": [
      "Co-efficients or Slopes or Weights :  [  -9.16088483 -205.46225988  516.68462383  340.62734108 -895.54360867\n",
      "  561.21453306  153.88478595  126.73431596  861.12139955   52.41982836]\n",
      "Intercepts :  151.88334520854633\n"
     ]
    }
   ],
   "source": [
    "print(\"Co-efficients or Slopes or Weights : \", reg.coef_)\n",
    "print(\"Intercepts : \", reg.intercept_)"
   ]
  },
  {
   "cell_type": "code",
   "execution_count": 45,
   "id": "cf6c8dd7",
   "metadata": {},
   "outputs": [
    {
     "data": {
      "text/plain": [
       "0.4399387660024645"
      ]
     },
     "execution_count": 45,
     "metadata": {},
     "output_type": "execute_result"
    }
   ],
   "source": [
    "r2_score(y_test, y_pred)"
   ]
  },
  {
   "cell_type": "markdown",
   "id": "2d652810",
   "metadata": {},
   "source": [
    "## Making Our own LinearRegression() Class for Multiple Features"
   ]
  },
  {
   "cell_type": "code",
   "execution_count": 46,
   "id": "380ae4e5",
   "metadata": {},
   "outputs": [],
   "source": [
    "class MyLinearRegression:\n",
    "    def __init__(self):\n",
    "        self.coef_ = None\n",
    "        self.intercept_ = None\n",
    "    \n",
    "    def fit(self, X_train, y_train):\n",
    "        \n",
    "        # Inserting a column with all 1's, at 0th index.\n",
    "        X_train = np.insert(X_train, 0, 1, axis=1)\n",
    "        \n",
    "        # Calculating betas or Creating 1D Matrix of Co-efficients/betas\n",
    "        betas = np.linalg.inv(np.dot(X_train.T, X_train)).dot(X_train.T).dot(y_train)\n",
    "        \n",
    "        self.intercept_ = betas[0]  # 0th element of 'betas' Matrix is the Intercept.\n",
    "        self.coef_ = betas[1: ]  # and all other elements of 'betas' Matrix are the Coefficients..\n",
    "        \n",
    "        print(\"Co-efficients or Weights : \", self.coef_)\n",
    "        print(\"Intercepts : \", self.intercept_)\n",
    "        \n",
    "    def predict(self, X_train):\n",
    "        \n",
    "        return X_train.dot(self.coef_) + self.intercept_"
   ]
  },
  {
   "cell_type": "markdown",
   "id": "850db24d",
   "metadata": {},
   "source": [
    "### Working with our own LinearRegression() Class"
   ]
  },
  {
   "cell_type": "code",
   "execution_count": 47,
   "id": "fad9ec9e",
   "metadata": {},
   "outputs": [
    {
     "name": "stdout",
     "output_type": "stream",
     "text": [
      "Co-efficients or Weights :  [  -9.16088483 -205.46225988  516.68462383  340.62734108 -895.54360867\n",
      "  561.21453306  153.88478595  126.73431596  861.12139955   52.41982836]\n",
      "Intercepts :  151.88334520854633\n"
     ]
    }
   ],
   "source": [
    "# Creating Class Object and Trainning The Dataset..\n",
    "lr = MyLinearRegression()\n",
    "lr.fit(X_train, y_train)"
   ]
  },
  {
   "cell_type": "code",
   "execution_count": 48,
   "id": "d7fd5231",
   "metadata": {},
   "outputs": [],
   "source": [
    "# Predicting the Values from X_test dataset..\n",
    "y_pred1 = lr.predict(X_test)"
   ]
  },
  {
   "cell_type": "code",
   "execution_count": 49,
   "id": "402b123d",
   "metadata": {},
   "outputs": [
    {
     "data": {
      "text/plain": [
       "0.4399387660024646"
      ]
     },
     "execution_count": 49,
     "metadata": {},
     "output_type": "execute_result"
    }
   ],
   "source": [
    "# Checking Accuracy of the Class..\n",
    "r2_score(y_test, y_pred1)"
   ]
  },
  {
   "cell_type": "markdown",
   "id": "e6a0cb2b",
   "metadata": {},
   "source": [
    "##### Observe the fact that our MyLinearRegression() class is giving the same accuracy as Scikit_Learn's LinearRegression() Class. "
   ]
  },
  {
   "cell_type": "code",
   "execution_count": null,
   "id": "46fa49b7",
   "metadata": {},
   "outputs": [],
   "source": []
  }
 ],
 "metadata": {
  "kernelspec": {
   "display_name": "Python 3 (ipykernel)",
   "language": "python",
   "name": "python3"
  },
  "language_info": {
   "codemirror_mode": {
    "name": "ipython",
    "version": 3
   },
   "file_extension": ".py",
   "mimetype": "text/x-python",
   "name": "python",
   "nbconvert_exporter": "python",
   "pygments_lexer": "ipython3",
   "version": "3.9.12"
  }
 },
 "nbformat": 4,
 "nbformat_minor": 5
}
